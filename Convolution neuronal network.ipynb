{
 "cells": [
  {
   "cell_type": "code",
   "execution_count": 1,
   "id": "3214872a",
   "metadata": {},
   "outputs": [],
   "source": [
    "import numpy as np\n",
    "from scipy import signal\n",
    "\n",
    "A = np.array([[2,1,3,0],[1,1,0,5],[3,3,1,0],[2,0,0,2]])\n",
    "M = np.array([[1,0,2],[2,1,0],[1,0,3]])"
   ]
  },
  {
   "cell_type": "code",
   "execution_count": 2,
   "id": "2d5aa06d",
   "metadata": {},
   "outputs": [
    {
     "name": "stdout",
     "output_type": "stream",
     "text": [
      "[[ 5  9 10  0]\n",
      " [ 7 17 19 16]\n",
      " [10 12 11  0]\n",
      " [ 5 10 13  5]]\n"
     ]
    }
   ],
   "source": [
    "B = signal.convolve2d(A, M, mode='same', boundary='fill')\n",
    "print (B)"
   ]
  },
  {
   "cell_type": "code",
   "execution_count": 3,
   "id": "b2f3004b",
   "metadata": {},
   "outputs": [
    {
     "name": "stdout",
     "output_type": "stream",
     "text": [
      "[[17 19]\n",
      " [12 11]]\n"
     ]
    }
   ],
   "source": [
    "B1 = signal.convolve2d(A, M, mode='valid')\n",
    "print(B1)"
   ]
  },
  {
   "cell_type": "code",
   "execution_count": 4,
   "id": "1790e47b",
   "metadata": {},
   "outputs": [
    {
     "name": "stdout",
     "output_type": "stream",
     "text": [
      "[[ 2  1  7  2  6  0]\n",
      " [ 5  5  9 10  0 10]\n",
      " [ 7  7 17 19 16  0]\n",
      " [ 9 10 12 11  0 19]\n",
      " [ 7  5 10 13  5  0]\n",
      " [ 2  0  6  2  0  6]]\n"
     ]
    }
   ],
   "source": [
    "B2 = signal.convolve2d(A, M, mode='full')\n",
    "print(B2)"
   ]
  },
  {
   "cell_type": "code",
   "execution_count": 5,
   "id": "53482f15",
   "metadata": {},
   "outputs": [],
   "source": [
    "def max_pooling(A,k):\n",
    "    n, p = A.shape\n",
    "    B = A.reshape(n//k,k,p//k,k)\n",
    "    C = B.transpose((0, 2, 1, 3))\n",
    "    D = C.max(axis=(2,3))\n",
    "    return D"
   ]
  },
  {
   "cell_type": "code",
   "execution_count": 6,
   "id": "de7e3b72",
   "metadata": {},
   "outputs": [
    {
     "name": "stdout",
     "output_type": "stream",
     "text": [
      "[[23 22 17]\n",
      " [20 19  8]]\n"
     ]
    }
   ],
   "source": [
    "R = np.array([[16, 23, 22, 21, 12, 13],[0, 5, 18, 2, 17, 15],[10, 20, 4, 9, 7, 8],[11, 14, 1, 19, 6, 3]])\n",
    "print(max_pooling(R,2))"
   ]
  },
  {
   "cell_type": "code",
   "execution_count": 7,
   "id": "573a744e",
   "metadata": {},
   "outputs": [],
   "source": [
    "def average_pooling(A,k):\n",
    "    n, p = A.shape\n",
    "    B = A.reshape(n//k,k,p//k,k)\n",
    "    C = B.transpose((0, 2, 1, 3))\n",
    "    D = C.mean(axis=(2,3))\n",
    "    return D"
   ]
  },
  {
   "cell_type": "code",
   "execution_count": 8,
   "id": "4a7e160f",
   "metadata": {},
   "outputs": [
    {
     "name": "stdout",
     "output_type": "stream",
     "text": [
      "[[11.   15.75 14.25]\n",
      " [13.75  8.25  6.  ]]\n"
     ]
    }
   ],
   "source": [
    "print(average_pooling(R,2))"
   ]
  },
  {
   "cell_type": "code",
   "execution_count": 27,
   "id": "a197d867",
   "metadata": {},
   "outputs": [
    {
     "ename": "FileNotFoundError",
     "evalue": "No such file: '/Users/asriel/Machine-learning/Python/Learning/deepmath-exo7/image_avant.png'",
     "output_type": "error",
     "traceback": [
      "\u001b[0;31m---------------------------------------------------------------------------\u001b[0m",
      "\u001b[0;31mFileNotFoundError\u001b[0m                         Traceback (most recent call last)",
      "Cell \u001b[0;32mIn[27], line 7\u001b[0m\n\u001b[1;32m      3\u001b[0m \u001b[38;5;66;03m# Partie A - Importer une image comme un tableau\u001b[39;00m\n\u001b[1;32m      5\u001b[0m \u001b[38;5;28;01mimport\u001b[39;00m \u001b[38;5;21;01mimageio\u001b[39;00m\u001b[38;5;21;01m.\u001b[39;00m\u001b[38;5;21;01mv3\u001b[39;00m \u001b[38;5;28;01mas\u001b[39;00m \u001b[38;5;21;01miio\u001b[39;00m\n\u001b[0;32m----> 7\u001b[0m A \u001b[38;5;241m=\u001b[39m \u001b[43miio\u001b[49m\u001b[38;5;241;43m.\u001b[39;49m\u001b[43mimread\u001b[49m\u001b[43m(\u001b[49m\u001b[38;5;124;43m'\u001b[39;49m\u001b[38;5;124;43mimage_avant.png\u001b[39;49m\u001b[38;5;124;43m'\u001b[39;49m\u001b[43m)\u001b[49m\n\u001b[1;32m      8\u001b[0m \u001b[38;5;66;03m# Partie B - Motif de convolution\u001b[39;00m\n\u001b[1;32m      9\u001b[0m M \u001b[38;5;241m=\u001b[39m np\u001b[38;5;241m.\u001b[39marray([[\u001b[38;5;241m-\u001b[39m\u001b[38;5;241m2\u001b[39m,\u001b[38;5;241m-\u001b[39m\u001b[38;5;241m1\u001b[39m,\u001b[38;5;241m0\u001b[39m],[\u001b[38;5;241m-\u001b[39m\u001b[38;5;241m1\u001b[39m,\u001b[38;5;241m1\u001b[39m,\u001b[38;5;241m1\u001b[39m],[\u001b[38;5;241m0\u001b[39m,\u001b[38;5;241m1\u001b[39m,\u001b[38;5;241m2\u001b[39m]])\n",
      "File \u001b[0;32m~/miniforge3/lib/python3.10/site-packages/imageio/v3.py:53\u001b[0m, in \u001b[0;36mimread\u001b[0;34m(uri, index, plugin, extension, format_hint, **kwargs)\u001b[0m\n\u001b[1;32m     50\u001b[0m \u001b[38;5;28;01mif\u001b[39;00m index \u001b[38;5;129;01mis\u001b[39;00m \u001b[38;5;129;01mnot\u001b[39;00m \u001b[38;5;28;01mNone\u001b[39;00m:\n\u001b[1;32m     51\u001b[0m     call_kwargs[\u001b[38;5;124m\"\u001b[39m\u001b[38;5;124mindex\u001b[39m\u001b[38;5;124m\"\u001b[39m] \u001b[38;5;241m=\u001b[39m index\n\u001b[0;32m---> 53\u001b[0m \u001b[38;5;28;01mwith\u001b[39;00m \u001b[43mimopen\u001b[49m\u001b[43m(\u001b[49m\u001b[43muri\u001b[49m\u001b[43m,\u001b[49m\u001b[43m \u001b[49m\u001b[38;5;124;43m\"\u001b[39;49m\u001b[38;5;124;43mr\u001b[39;49m\u001b[38;5;124;43m\"\u001b[39;49m\u001b[43m,\u001b[49m\u001b[43m \u001b[49m\u001b[38;5;241;43m*\u001b[39;49m\u001b[38;5;241;43m*\u001b[39;49m\u001b[43mplugin_kwargs\u001b[49m\u001b[43m)\u001b[49m \u001b[38;5;28;01mas\u001b[39;00m img_file:\n\u001b[1;32m     54\u001b[0m     \u001b[38;5;28;01mreturn\u001b[39;00m np\u001b[38;5;241m.\u001b[39masarray(img_file\u001b[38;5;241m.\u001b[39mread(\u001b[38;5;241m*\u001b[39m\u001b[38;5;241m*\u001b[39mcall_kwargs))\n",
      "File \u001b[0;32m~/miniforge3/lib/python3.10/site-packages/imageio/core/imopen.py:113\u001b[0m, in \u001b[0;36mimopen\u001b[0;34m(uri, io_mode, plugin, extension, format_hint, legacy_mode, **kwargs)\u001b[0m\n\u001b[1;32m    111\u001b[0m     request\u001b[38;5;241m.\u001b[39mformat_hint \u001b[38;5;241m=\u001b[39m format_hint\n\u001b[1;32m    112\u001b[0m \u001b[38;5;28;01melse\u001b[39;00m:\n\u001b[0;32m--> 113\u001b[0m     request \u001b[38;5;241m=\u001b[39m \u001b[43mRequest\u001b[49m\u001b[43m(\u001b[49m\u001b[43muri\u001b[49m\u001b[43m,\u001b[49m\u001b[43m \u001b[49m\u001b[43mio_mode\u001b[49m\u001b[43m,\u001b[49m\u001b[43m \u001b[49m\u001b[43mformat_hint\u001b[49m\u001b[38;5;241;43m=\u001b[39;49m\u001b[43mformat_hint\u001b[49m\u001b[43m,\u001b[49m\u001b[43m \u001b[49m\u001b[43mextension\u001b[49m\u001b[38;5;241;43m=\u001b[39;49m\u001b[43mextension\u001b[49m\u001b[43m)\u001b[49m\n\u001b[1;32m    115\u001b[0m source \u001b[38;5;241m=\u001b[39m \u001b[38;5;124m\"\u001b[39m\u001b[38;5;124m<bytes>\u001b[39m\u001b[38;5;124m\"\u001b[39m \u001b[38;5;28;01mif\u001b[39;00m \u001b[38;5;28misinstance\u001b[39m(uri, \u001b[38;5;28mbytes\u001b[39m) \u001b[38;5;28;01melse\u001b[39;00m uri\n\u001b[1;32m    117\u001b[0m \u001b[38;5;66;03m# fast-path based on plugin\u001b[39;00m\n\u001b[1;32m    118\u001b[0m \u001b[38;5;66;03m# (except in legacy mode)\u001b[39;00m\n",
      "File \u001b[0;32m~/miniforge3/lib/python3.10/site-packages/imageio/core/request.py:247\u001b[0m, in \u001b[0;36mRequest.__init__\u001b[0;34m(self, uri, mode, extension, format_hint, **kwargs)\u001b[0m\n\u001b[1;32m    244\u001b[0m     \u001b[38;5;28;01mraise\u001b[39;00m \u001b[38;5;167;01mValueError\u001b[39;00m(\u001b[38;5;124mf\u001b[39m\u001b[38;5;124m\"\u001b[39m\u001b[38;5;124mInvalid Request.Mode: \u001b[39m\u001b[38;5;132;01m{\u001b[39;00mmode\u001b[38;5;132;01m}\u001b[39;00m\u001b[38;5;124m\"\u001b[39m)\n\u001b[1;32m    246\u001b[0m \u001b[38;5;66;03m# Parse what was given\u001b[39;00m\n\u001b[0;32m--> 247\u001b[0m \u001b[38;5;28;43mself\u001b[39;49m\u001b[38;5;241;43m.\u001b[39;49m\u001b[43m_parse_uri\u001b[49m\u001b[43m(\u001b[49m\u001b[43muri\u001b[49m\u001b[43m)\u001b[49m\n\u001b[1;32m    249\u001b[0m \u001b[38;5;66;03m# Set extension\u001b[39;00m\n\u001b[1;32m    250\u001b[0m \u001b[38;5;28;01mif\u001b[39;00m extension \u001b[38;5;129;01mis\u001b[39;00m \u001b[38;5;129;01mnot\u001b[39;00m \u001b[38;5;28;01mNone\u001b[39;00m:\n",
      "File \u001b[0;32m~/miniforge3/lib/python3.10/site-packages/imageio/core/request.py:407\u001b[0m, in \u001b[0;36mRequest._parse_uri\u001b[0;34m(self, uri)\u001b[0m\n\u001b[1;32m    404\u001b[0m \u001b[38;5;28;01mif\u001b[39;00m is_read_request:\n\u001b[1;32m    405\u001b[0m     \u001b[38;5;66;03m# Reading: check that the file exists (but is allowed a dir)\u001b[39;00m\n\u001b[1;32m    406\u001b[0m     \u001b[38;5;28;01mif\u001b[39;00m \u001b[38;5;129;01mnot\u001b[39;00m os\u001b[38;5;241m.\u001b[39mpath\u001b[38;5;241m.\u001b[39mexists(fn):\n\u001b[0;32m--> 407\u001b[0m         \u001b[38;5;28;01mraise\u001b[39;00m \u001b[38;5;167;01mFileNotFoundError\u001b[39;00m(\u001b[38;5;124m\"\u001b[39m\u001b[38;5;124mNo such file: \u001b[39m\u001b[38;5;124m'\u001b[39m\u001b[38;5;132;01m%s\u001b[39;00m\u001b[38;5;124m'\u001b[39m\u001b[38;5;124m\"\u001b[39m \u001b[38;5;241m%\u001b[39m fn)\n\u001b[1;32m    408\u001b[0m \u001b[38;5;28;01melse\u001b[39;00m:\n\u001b[1;32m    409\u001b[0m     \u001b[38;5;66;03m# Writing: check that the directory to write to does exist\u001b[39;00m\n\u001b[1;32m    410\u001b[0m     dn \u001b[38;5;241m=\u001b[39m os\u001b[38;5;241m.\u001b[39mpath\u001b[38;5;241m.\u001b[39mdirname(fn)\n",
      "\u001b[0;31mFileNotFoundError\u001b[0m: No such file: '/Users/asriel/Machine-learning/Python/Learning/deepmath-exo7/image_avant.png'"
     ]
    }
   ],
   "source": [
    "import numpy as np\n",
    "import matplotlib.pyplot as plt\n",
    "# Partie A - Importer une image comme un tableau\n",
    "\n",
    "import imageio.v3 as iio\n",
    "\n",
    "A = iio.imread('image_avant.png')\n",
    "# Partie B - Motif de convolution\n",
    "M = np.array([[-2,-1,0],[-1,1,1],[0,1,2]])\n",
    "# Partie C - Calcul de la convolution\n",
    "\n",
    "from scipy import signal\n",
    "B = signal.convolve2d(A, M, boundary='fill', mode='same')\n",
    "# Partie D - Affichage des images avant/après\n",
    "\n",
    "fig = plt.figure(figsize = (10,5))\n",
    "ax = plt.subplot(1,2,1)\n",
    "ax.set_title(\"Image originale\")\n",
    "ax.imshow(A, cmap='gray')\n",
    "bx = plt.subplot(1,2,2)\n",
    "bx.set_title(\"Image sortie\")\n",
    "bx.imshow(B, cmap='gray')\n",
    "plt.show()\n",
    "# Partie E - Sauvegarde de l'image\n",
    "B = np.clip(B,0,255) # limite les valeurs entre 0 et 255\n",
    "B = B.astype(np.uint8) # conversion en entiers\n",
    "iio.imwrite('image_apres.png', B)"
   ]
  },
  {
   "cell_type": "code",
   "execution_count": 41,
   "id": "9fe3f130",
   "metadata": {},
   "outputs": [],
   "source": [
    "import numpy as np\n",
    "import matplotlib.pyplot as plt\n",
    "\n",
    "import imageio\n",
    "import importlib_resources"
   ]
  },
  {
   "cell_type": "code",
   "execution_count": null,
   "id": "085c1d79",
   "metadata": {},
   "outputs": [],
   "source": [
    "f = np.array([1,0,3,5,1])\n",
    "g = np.array([1,2,3])\n",
    "h = np.convolve(f,g,'same')"
   ]
  },
  {
   "cell_type": "code",
   "execution_count": null,
   "id": "d592d544",
   "metadata": {},
   "outputs": [],
   "source": [
    "h"
   ]
  },
  {
   "cell_type": "code",
   "execution_count": 36,
   "id": "e3ba79bc",
   "metadata": {},
   "outputs": [],
   "source": [
    "h = np.convolve(f,g,'full')"
   ]
  },
  {
   "cell_type": "code",
   "execution_count": 37,
   "id": "a3b9d419",
   "metadata": {},
   "outputs": [
    {
     "data": {
      "text/plain": [
       "array([ 1,  2,  6, 11, 20, 17,  3])"
      ]
     },
     "execution_count": 37,
     "metadata": {},
     "output_type": "execute_result"
    }
   ],
   "source": [
    "h"
   ]
  },
  {
   "cell_type": "code",
   "execution_count": 38,
   "id": "ef0f9d6b",
   "metadata": {},
   "outputs": [],
   "source": [
    "N = 100\n",
    "f = np.sin(np.linspace(0,2*np.pi,N)) + np.random.random(N)\n",
    "g = 1/5*np.array([1,1,1,1,1])"
   ]
  },
  {
   "cell_type": "code",
   "execution_count": 39,
   "id": "04676e01",
   "metadata": {},
   "outputs": [
    {
     "data": {
      "image/png": "[encoded data removed]",
      "text/plain": [
       "<Figure size 640x480 with 3 Axes>"
      ]
     },
     "metadata": {},
     "output_type": "display_data"
    }
   ],
   "source": [
    "h = np.convolve(f,g,'same')\n",
    "i = np.convolve(f,g,'full')\n",
    "ax = plt.subplot(3,1,1)\n",
    "ax.set_title(\"Entrée f\")\n",
    "plt.plot(f)\n",
    "ax = plt.subplot(3,1,2)\n",
    "ax.set_title(\"Sortie h = f*g\")\n",
    "plt.plot(h,color='red')\n",
    "ax = plt.subplot(3,1,3)\n",
    "ax.set_title(\"Sortie h = f*g\")\n",
    "plt.plot(i,color='black')\n",
    "plt.show()"
   ]
  },
  {
   "cell_type": "code",
   "execution_count": 42,
   "id": "250942e9",
   "metadata": {},
   "outputs": [
    {
     "name": "stdout",
     "output_type": "stream",
     "text": [
      "Unexpected exception formatting exception. Falling back to standard exception\n"
     ]
    },
    {
     "name": "stderr",
     "output_type": "stream",
     "text": [
      "Traceback (most recent call last):\n",
      "  File \"/Users/asriel/miniforge3/lib/python3.10/site-packages/IPython/core/interactiveshell.py\", line 3505, in run_code\n",
      "    exec(code_obj, self.user_global_ns, self.user_ns)\n",
      "  File \"/var/folders/qp/m4x_nf996xq9pxj7nm2t9ffr0000gn/T/ipykernel_96326/923188243.py\", line 1, in <module>\n",
      "    from scipy import signal\n",
      "  File \"/Users/asriel/miniforge3/lib/python3.10/site-packages/scipy/signal/__init__.py\", line 324, in <module>\n",
      "    from ._bsplines import *\n",
      "  File \"/Users/asriel/miniforge3/lib/python3.10/site-packages/scipy/signal/_bsplines.py\", line 12, in <module>\n",
      "    from scipy.interpolate import BSpline\n",
      "  File \"/Users/asriel/miniforge3/lib/python3.10/site-packages/scipy/interpolate/__init__.py\", line 167, in <module>\n",
      "    from ._interpolate import *\n",
      "  File \"/Users/asriel/miniforge3/lib/python3.10/site-packages/scipy/interpolate/_interpolate.py\", line 12, in <module>\n",
      "    from . import _fitpack_py\n",
      "  File \"/Users/asriel/miniforge3/lib/python3.10/site-packages/scipy/interpolate/_fitpack_py.py\", line 10, in <module>\n",
      "    from ._bsplines import BSpline\n",
      "  File \"/Users/asriel/miniforge3/lib/python3.10/site-packages/scipy/interpolate/_bsplines.py\", line 9, in <module>\n",
      "    from scipy.optimize import minimize_scalar\n",
      "  File \"/Users/asriel/miniforge3/lib/python3.10/site-packages/scipy/optimize/__init__.py\", line 410, in <module>\n",
      "    from ._minimize import *\n",
      "  File \"/Users/asriel/miniforge3/lib/python3.10/site-packages/scipy/optimize/_minimize.py\", line 27, in <module>\n",
      "    from ._trustregion_constr import _minimize_trustregion_constr\n",
      "  File \"/Users/asriel/miniforge3/lib/python3.10/site-packages/scipy/optimize/_trustregion_constr/__init__.py\", line 4, in <module>\n",
      "    from .minimize_trustregion_constr import _minimize_trustregion_constr\n",
      "  File \"/Users/asriel/miniforge3/lib/python3.10/site-packages/scipy/optimize/_trustregion_constr/minimize_trustregion_constr.py\", line 5, in <module>\n",
      "    from .._constraints import (\n",
      "  File \"/Users/asriel/miniforge3/lib/python3.10/site-packages/scipy/optimize/_constraints.py\", line 8, in <module>\n",
      "    from numpy.testing import suppress_warnings\n",
      "  File \"/Users/asriel/miniforge3/lib/python3.10/site-packages/numpy/testing/__init__.py\", line 11, in <module>\n",
      "    from ._private.utils import *\n",
      "  File \"/Users/asriel/miniforge3/lib/python3.10/site-packages/numpy/testing/_private/utils.py\", line 417, in <module>\n",
      "    @np._no_nep50_warning()\n",
      "  File \"/Users/asriel/miniforge3/lib/python3.10/site-packages/numpy/__init__.py\", line 311, in __getattr__\n",
      "AttributeError: module 'numpy' has no attribute '_no_nep50_warning'\n",
      "\n",
      "During handling of the above exception, another exception occurred:\n",
      "\n",
      "Traceback (most recent call last):\n",
      "  File \"/Users/asriel/miniforge3/lib/python3.10/site-packages/IPython/core/interactiveshell.py\", line 2102, in showtraceback\n",
      "    stb = self.InteractiveTB.structured_traceback(\n",
      "  File \"/Users/asriel/miniforge3/lib/python3.10/site-packages/IPython/core/ultratb.py\", line 1310, in structured_traceback\n",
      "    return FormattedTB.structured_traceback(\n",
      "  File \"/Users/asriel/miniforge3/lib/python3.10/site-packages/IPython/core/ultratb.py\", line 1199, in structured_traceback\n",
      "    return VerboseTB.structured_traceback(\n",
      "  File \"/Users/asriel/miniforge3/lib/python3.10/site-packages/IPython/core/ultratb.py\", line 1052, in structured_traceback\n",
      "    formatted_exception = self.format_exception_as_a_whole(etype, evalue, etb, number_of_lines_of_context,\n",
      "  File \"/Users/asriel/miniforge3/lib/python3.10/site-packages/IPython/core/ultratb.py\", line 978, in format_exception_as_a_whole\n",
      "    frames.append(self.format_record(record))\n",
      "  File \"/Users/asriel/miniforge3/lib/python3.10/site-packages/IPython/core/ultratb.py\", line 878, in format_record\n",
      "    frame_info.lines, Colors, self.has_colors, lvals\n",
      "  File \"/Users/asriel/miniforge3/lib/python3.10/site-packages/IPython/core/ultratb.py\", line 712, in lines\n",
      "    return self._sd.lines\n",
      "  File \"/Users/asriel/miniforge3/lib/python3.10/site-packages/stack_data/utils.py\", line 144, in cached_property_wrapper\n",
      "    value = obj.__dict__[self.func.__name__] = self.func(obj)\n",
      "  File \"/Users/asriel/miniforge3/lib/python3.10/site-packages/stack_data/core.py\", line 734, in lines\n",
      "    pieces = self.included_pieces\n",
      "  File \"/Users/asriel/miniforge3/lib/python3.10/site-packages/stack_data/utils.py\", line 144, in cached_property_wrapper\n",
      "    value = obj.__dict__[self.func.__name__] = self.func(obj)\n",
      "  File \"/Users/asriel/miniforge3/lib/python3.10/site-packages/stack_data/core.py\", line 681, in included_pieces\n",
      "    pos = scope_pieces.index(self.executing_piece)\n",
      "  File \"/Users/asriel/miniforge3/lib/python3.10/site-packages/stack_data/utils.py\", line 144, in cached_property_wrapper\n",
      "    value = obj.__dict__[self.func.__name__] = self.func(obj)\n",
      "  File \"/Users/asriel/miniforge3/lib/python3.10/site-packages/stack_data/core.py\", line 660, in executing_piece\n",
      "    return only(\n",
      "  File \"/Users/asriel/miniforge3/lib/python3.10/site-packages/executing/executing.py\", line 190, in only\n",
      "    raise NotOneValueFound('Expected one value, found 0')\n",
      "executing.executing.NotOneValueFound: Expected one value, found 0\n"
     ]
    }
   ],
   "source": [
    "from scipy import signal"
   ]
  },
  {
   "cell_type": "code",
   "execution_count": null,
   "id": "4d694841",
   "metadata": {},
   "outputs": [],
   "source": []
  }
 ],
 "metadata": {
  "kernelspec": {
   "display_name": "Python 3 (ipykernel)",
   "language": "python",
   "name": "python3"
  },
  "language_info": {
   "codemirror_mode": {
    "name": "ipython",
    "version": 3
   },
   "file_extension": ".py",
   "mimetype": "text/x-python",
   "name": "python",
   "nbconvert_exporter": "python",
   "pygments_lexer": "ipython3",
   "version": "3.10.10"
  }
 },
 "nbformat": 4,
 "nbformat_minor": 5
}
