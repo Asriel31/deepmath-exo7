{
 "cells": [
  {
   "cell_type": "code",
   "execution_count": 1,
   "id": "3214872a",
   "metadata": {},
   "outputs": [],
   "source": [
    "import numpy as np\n",
    "from scipy import signal\n",
    "\n",
    "A = np.array([[2,1,3,0],[1,1,0,5],[3,3,1,0],[2,0,0,2]])\n",
    "M = np.array([[1,0,2],[2,1,0],[1,0,3]])"
   ]
  },
  {
   "cell_type": "code",
   "execution_count": 2,
   "id": "2d5aa06d",
   "metadata": {},
   "outputs": [
    {
     "name": "stdout",
     "output_type": "stream",
     "text": [
      "[[ 5  9 10  0]\n",
      " [ 7 17 19 16]\n",
      " [10 12 11  0]\n",
      " [ 5 10 13  5]]\n"
     ]
    }
   ],
   "source": [
    "B = signal.convolve2d(A, M, mode='same', boundary='fill')\n",
    "print (B)"
   ]
  },
  {
   "cell_type": "code",
   "execution_count": 3,
   "id": "b2f3004b",
   "metadata": {},
   "outputs": [
    {
     "name": "stdout",
     "output_type": "stream",
     "text": [
      "[[17 19]\n",
      " [12 11]]\n"
     ]
    }
   ],
   "source": [
    "B1 = signal.convolve2d(A, M, mode='valid')\n",
    "print(B1)"
   ]
  },
  {
   "cell_type": "code",
   "execution_count": 4,
   "id": "1790e47b",
   "metadata": {},
   "outputs": [
    {
     "name": "stdout",
     "output_type": "stream",
     "text": [
      "[[ 2  1  7  2  6  0]\n",
      " [ 5  5  9 10  0 10]\n",
      " [ 7  7 17 19 16  0]\n",
      " [ 9 10 12 11  0 19]\n",
      " [ 7  5 10 13  5  0]\n",
      " [ 2  0  6  2  0  6]]\n"
     ]
    }
   ],
   "source": [
    "B2 = signal.convolve2d(A, M, mode='full')\n",
    "print(B2)"
   ]
  },
  {
   "cell_type": "code",
   "execution_count": 5,
   "id": "53482f15",
   "metadata": {},
   "outputs": [],
   "source": [
    "def max_pooling(A,k):\n",
    "    n, p = A.shape\n",
    "    B = A.reshape(n//k,k,p//k,k)\n",
    "    C = B.transpose((0, 2, 1, 3))\n",
    "    D = C.max(axis=(2,3))\n",
    "    return D"
   ]
  },
  {
   "cell_type": "code",
   "execution_count": 6,
   "id": "de7e3b72",
   "metadata": {},
   "outputs": [
    {
     "name": "stdout",
     "output_type": "stream",
     "text": [
      "[[23 22 17]\n",
      " [20 19  8]]\n"
     ]
    }
   ],
   "source": [
    "R = np.array([[16, 23, 22, 21, 12, 13],[0, 5, 18, 2, 17, 15],[10, 20, 4, 9, 7, 8],[11, 14, 1, 19, 6, 3]])\n",
    "print(max_pooling(R,2))"
   ]
  },
  {
   "cell_type": "code",
   "execution_count": 7,
   "id": "573a744e",
   "metadata": {},
   "outputs": [],
   "source": [
    "def average_pooling(A,k):\n",
    "    n, p = A.shape\n",
    "    B = A.reshape(n//k,k,p//k,k)\n",
    "    C = B.transpose((0, 2, 1, 3))\n",
    "    D = C.mean(axis=(2,3))\n",
    "    return D"
   ]
  },
  {
   "cell_type": "code",
   "execution_count": 8,
   "id": "4a7e160f",
   "metadata": {},
   "outputs": [
    {
     "name": "stdout",
     "output_type": "stream",
     "text": [
      "[[11.   15.75 14.25]\n",
      " [13.75  8.25  6.  ]]\n"
     ]
    }
   ],
   "source": [
    "print(average_pooling(R,2))"
   ]
  },
  {
   "cell_type": "code",
   "execution_count": 3,
   "id": "a197d867",
   "metadata": {},
   "outputs": [
    {
     "ename": "ModuleNotFoundError",
     "evalue": "No module named 'imageio'",
     "output_type": "error",
     "traceback": [
      "\u001b[0;31m---------------------------------------------------------------------------\u001b[0m",
      "\u001b[0;31mModuleNotFoundError\u001b[0m                       Traceback (most recent call last)",
      "Cell \u001b[0;32mIn[3], line 4\u001b[0m\n\u001b[1;32m      2\u001b[0m \u001b[38;5;28;01mimport\u001b[39;00m \u001b[38;5;21;01mmatplotlib\u001b[39;00m\u001b[38;5;21;01m.\u001b[39;00m\u001b[38;5;21;01mpyplot\u001b[39;00m \u001b[38;5;28;01mas\u001b[39;00m \u001b[38;5;21;01mplt\u001b[39;00m\n\u001b[1;32m      3\u001b[0m \u001b[38;5;66;03m# Partie A - Importer une image comme un tableau\u001b[39;00m\n\u001b[0;32m----> 4\u001b[0m \u001b[38;5;28;01mimport\u001b[39;00m \u001b[38;5;21;01mimageio\u001b[39;00m\u001b[38;5;21;01m.\u001b[39;00m\u001b[38;5;21;01mv3\u001b[39;00m \u001b[38;5;28;01mas\u001b[39;00m \u001b[38;5;21;01miio\u001b[39;00m\n\u001b[1;32m      6\u001b[0m A \u001b[38;5;241m=\u001b[39m iio\u001b[38;5;241m.\u001b[39mimread(\u001b[38;5;124m'\u001b[39m\u001b[38;5;124mimage_avant.png\u001b[39m\u001b[38;5;124m'\u001b[39m)\n\u001b[1;32m      7\u001b[0m \u001b[38;5;66;03m# Partie B - Motif de convolution\u001b[39;00m\n",
      "\u001b[0;31mModuleNotFoundError\u001b[0m: No module named 'imageio'"
     ]
    }
   ],
   "source": [
    "import numpy as np\n",
    "import matplotlib.pyplot as plt\n",
    "# Partie A - Importer une image comme un tableau\n",
    "import imageio.v3 as iio\n",
    "\n",
    "A = iio.imread('image_avant.png')\n",
    "# Partie B - Motif de convolution\n",
    "M = np.array([[-2,-1,0],[-1,1,1],[0,1,2]])\n",
    "# Partie C - Calcul de la convolution\n",
    "\n",
    "from scipy import signal\n",
    "B = signal.convolve2d(A, M, boundary='fill', mode='same')\n",
    "# Partie D - Affichage des images avant/après\n",
    "\n",
    "fig = plt.figure(figsize = (10,5))\n",
    "ax = plt.subplot(1,2,1)\n",
    "ax.set_title(\"Image originale\")\n",
    "ax.imshow(A, cmap='gray')\n",
    "bx = plt.subplot(1,2,2)\n",
    "bx.set_title(\"Image sortie\")\n",
    "bx.imshow(B, cmap='gray')\n",
    "plt.show()\n",
    "# Partie E - Sauvegarde de l'image\n",
    "B = np.clip(B,0,255) # limite les valeurs entre 0 et 255\n",
    "B = B.astype(np.uint8) # conversion en entiers\n",
    "iio.imwrite('image_apres.png', B)"
   ]
  },
  {
   "cell_type": "code",
   "execution_count": 2,
   "id": "9fe3f130",
   "metadata": {},
   "outputs": [
    {
     "name": "stdout",
     "output_type": "stream",
     "text": [
      "zsh:1: command not found: from\r\n"
     ]
    },
    {
     "ename": "ModuleNotFoundError",
     "evalue": "No module named 'imageio'",
     "output_type": "error",
     "traceback": [
      "\u001b[0;31m---------------------------------------------------------------------------\u001b[0m",
      "\u001b[0;31mModuleNotFoundError\u001b[0m                       Traceback (most recent call last)",
      "Cell \u001b[0;32mIn[2], line 7\u001b[0m\n\u001b[1;32m      4\u001b[0m \u001b[38;5;28;01mimport\u001b[39;00m \u001b[38;5;21;01mmatplotlib\u001b[39;00m\u001b[38;5;21;01m.\u001b[39;00m\u001b[38;5;21;01mpyplot\u001b[39;00m \u001b[38;5;28;01mas\u001b[39;00m \u001b[38;5;21;01mplt\u001b[39;00m\n\u001b[1;32m      5\u001b[0m get_ipython()\u001b[38;5;241m.\u001b[39mrun_line_magic(\u001b[38;5;124m'\u001b[39m\u001b[38;5;124mmatplotlib\u001b[39m\u001b[38;5;124m'\u001b[39m, \u001b[38;5;124m'\u001b[39m\u001b[38;5;124minline\u001b[39m\u001b[38;5;124m'\u001b[39m)\n\u001b[0;32m----> 7\u001b[0m \u001b[38;5;28;01mimport\u001b[39;00m \u001b[38;5;21;01mimageio\u001b[39;00m\n\u001b[1;32m      8\u001b[0m \u001b[38;5;28;01mimport\u001b[39;00m \u001b[38;5;21;01mimportlib_resources\u001b[39;00m\n\u001b[1;32m      9\u001b[0m get_ipython()\u001b[38;5;241m.\u001b[39msystem(\u001b[38;5;124m'\u001b[39m\u001b[38;5;124mimport pathlib\u001b[39m\u001b[38;5;124m'\u001b[39m)\n",
      "\u001b[0;31mModuleNotFoundError\u001b[0m: No module named 'imageio'"
     ]
    }
   ],
   "source": [
    "!from openpiv import tools, pyprocess, validation, filters, scaling\n",
    "\n",
    "import numpy as np\n",
    "import matplotlib.pyplot as plt\n",
    "%matplotlib inline\n",
    "\n",
    "import imageio\n",
    "import importlib_resources\n",
    "!import pathlib"
   ]
  },
  {
   "cell_type": "code",
   "execution_count": 5,
   "id": "085c1d79",
   "metadata": {},
   "outputs": [],
   "source": [
    "f = np.array([1,0,3,5,1])\n",
    "g = np.array([1,2,3])\n",
    "h = np.convolve(f,g,'same')"
   ]
  },
  {
   "cell_type": "code",
   "execution_count": 6,
   "id": "59a5190b",
   "metadata": {},
   "outputs": [
    {
     "data": {
      "text/plain": [
       "array([ 2,  6, 11, 20, 17])"
      ]
     },
     "execution_count": 6,
     "metadata": {},
     "output_type": "execute_result"
    }
   ],
   "source": [
    "h"
   ]
  },
  {
   "cell_type": "code",
   "execution_count": 7,
   "id": "62a9a34c",
   "metadata": {},
   "outputs": [],
   "source": [
    "h = np.convolve(f,g,'full')"
   ]
  },
  {
   "cell_type": "code",
   "execution_count": 8,
   "id": "4bf829a7",
   "metadata": {},
   "outputs": [
    {
     "data": {
      "text/plain": [
       "array([ 1,  2,  6, 11, 20, 17,  3])"
      ]
     },
     "execution_count": 8,
     "metadata": {},
     "output_type": "execute_result"
    }
   ],
   "source": [
    "h"
   ]
  },
  {
   "cell_type": "code",
   "execution_count": 21,
   "id": "fbdacfa8",
   "metadata": {},
   "outputs": [],
   "source": [
    "N = 100\n",
    "f = np.sin(np.linspace(0,2*np.pi,N)) + np.random.random(N)\n",
    "g = 1/5*np.array([1,1,1,1,1])"
   ]
  },
  {
   "cell_type": "code",
   "execution_count": 22,
   "id": "26b35a11",
   "metadata": {},
   "outputs": [
    {
     "data": {
      "image/png": "[encoded data removed]",
      "text/plain": [
       "<Figure size 640x480 with 3 Axes>"
      ]
     },
     "metadata": {},
     "output_type": "display_data"
    }
   ],
   "source": [
    "h = np.convolve(f,g,'same')\n",
    "i = np.convolve(f,g,'full')\n",
    "ax = plt.subplot(3,1,1)\n",
    "ax.set_title(\"Entrée f\")\n",
    "plt.plot(f)\n",
    "ax = plt.subplot(3,1,2)\n",
    "ax.set_title(\"Sortie h = f*g\")\n",
    "plt.plot(h,color='red')\n",
    "ax = plt.subplot(3,1,3)\n",
    "ax.set_title(\"Sortie h = f*g\")\n",
    "plt.plot(i,color='black')\n",
    "plt.show()"
   ]
  },
  {
   "cell_type": "code",
   "execution_count": null,
   "id": "57fa65dd",
   "metadata": {},
   "outputs": [],
   "source": []
  }
 ],
 "metadata": {
  "kernelspec": {
   "display_name": "Python 3 (ipykernel)",
   "language": "python",
   "name": "python3"
  },
  "language_info": {
   "codemirror_mode": {
    "name": "ipython",
    "version": 3
   },
   "file_extension": ".py",
   "mimetype": "text/x-python",
   "name": "python",
   "nbconvert_exporter": "python",
   "pygments_lexer": "ipython3",
   "version": "3.10.10"
  }
 },
 "nbformat": 4,
 "nbformat_minor": 5
}
