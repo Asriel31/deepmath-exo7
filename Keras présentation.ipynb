{
 "cells": [
  {
   "cell_type": "markdown",
   "id": "6bc78b1f",
   "metadata": {},
   "source": [
    "<font face=\"sans-serif\" color=Red size=6ptx style=\"line-height:35px;\">\n",
    "<strong>KERAS</strong></font><br>\n",
    "<font face=\"sans-serif\" color=black size=3ptx style=\"line-height:25px;\">    \n",
    "Keras est une librairie de réseaux de neurones écrite en Python et intégrée à TensorFlow. Elle a été développée dans le but de permettre une expérimentation rapide afin de passer de l’idée aux résultats en un minimum de temps.<br>\n",
    "La librairie Keras répond aux besoins suivants :\n",
    "<ul>\n",
    "<li>Prototypage simple et rapide</li>\n",
    "<li>Prise en charge des réseaux convolutifs (CNN) et des réseaux récurrents (RNN)</li>\n",
    "<li>Déploiement sur CPU ou sur GPU</li>\n",
    "</ul>\n",
    "Nous présentons dans cette page les trois approches fournies par Keras pour construire des réseaux :<br>\n",
    "<font face=\"sans-serif\" color=Blue size=4ptx style=\"line-height:35px;\">\n",
    "<strong>La classe Sequential</strong></font><br>\n",
    "<font face=\"sans-serif\" color=black size=3ptx style=\"line-height:25px;\">  \n",
    "Ce container permet de décrire un réseau séquentiel en empilant différentes couches.</font><br>\n",
    "<font face=\"sans-serif\" color=Blue size=4ptx style=\"line-height:35px;\">\n",
    "<strong>L’API Functional</strong></font><br>\n",
    "<font face=\"sans-serif\" color=black size=3ptx style=\"line-height:25px;\">  \n",
    "C'est un compromis entre la facilité et flexibilité, c'est l’approche la plus utilisée.</font><br>\n",
    "<font face=\"sans-serif\" color=Blue size=4ptx style=\"line-height:35px;\">\n",
    "<strong>La classe Model</strong></font><br>\n",
    "<font face=\"sans-serif\" color=black size=3ptx style=\"line-height:25px;\">  \n",
    "Elle permet une approche bas-niveau, qui fournit un contrôle total mais qui ne donne plus accès à la plupart des fonctionnalités de Keras.</font><br>\n",
    "<font face=\"sans-serif\" color=Green size=4ptx style=\"line-height:35px;\">\n",
    "<strong>Les tenseurs</strong></font><br>\n",
    "<font face=\"sans-serif\" color=black size=3ptx style=\"line-height:25px;\"> \n",
    "La librairie Keras n’utilise pas en interne de tableaux NumPy mais un objet équivalent appelé tenseur. Les tenseurs peuvent par exemple être stockés sur GPU alors que les tableaux NumPy sont limités aux CPU. On retrouve de nombreuses similarités :\n",
    "</font>"
   ]
  },
  {
   "cell_type": "code",
   "execution_count": 140,
   "id": "9daf562c",
   "metadata": {},
   "outputs": [
    {
     "name": "stdout",
     "output_type": "stream",
     "text": [
      "T.shape --> (3, 2)\n",
      "\n",
      "T.dtype --> <dtype: 'float32'>\n",
      "\n",
      "tf.Tensor(\n",
      "[[1. 1.]\n",
      " [1. 1.]\n",
      " [1. 1.]], shape=(3, 2), dtype=float32)\n"
     ]
    }
   ],
   "source": [
    "import tensorflow as tf\n",
    "T = tf.ones((3,2))\n",
    "print(f'T.shape --> {T.shape}\\n')\n",
    "print(f'T.dtype --> {T.dtype}\\n')\n",
    "print(T)"
   ]
  },
  {
   "cell_type": "markdown",
   "id": "a339fc75",
   "metadata": {},
   "source": [
    "<font face=\"sans-serif\" color=green size=4ptx style=\"line-height:35px;\">\n",
    "<strong>Conversion vers un tenseur</strong></font><br>\n",
    "<font face=\"sans-serif\" color=black size=3ptx style=\"line-height:25px;\"> \n",
    "Pour stocker les données d’entrée, nous utilisons la syntaxe suivante :<br>\n",
    "</font>"
   ]
  },
  {
   "cell_type": "code",
   "execution_count": 5,
   "id": "f7ecb6a8",
   "metadata": {},
   "outputs": [
    {
     "name": "stdout",
     "output_type": "stream",
     "text": [
      "tf.Tensor(\n",
      "[[1 2 3]\n",
      " [1 2 3]\n",
      " [1 2 3]\n",
      " [1 2 3]], shape=(4, 3), dtype=int32)\n",
      "[[1. 1.]]\n",
      "tf.Tensor([[1. 1.]], shape=(1, 2), dtype=float64)\n"
     ]
    }
   ],
   "source": [
    "import tensorflow as tf\n",
    "import numpy as np\n",
    "\n",
    "Tensor1 = tf.constant([[1, 2, 3],[1, 2, 3],[1, 2, 3],[1, 2, 3]])   # conversion liste => tenseur\n",
    "print(Tensor1)\n",
    "A  = np.ones((1,2))\n",
    "print(A)\n",
    "Tensor2 = tf.constant(A)   \n",
    "print (Tensor2)# conversion numpy array => tenseur"
   ]
  },
  {
   "cell_type": "markdown",
   "id": "ea639ac0",
   "metadata": {},
   "source": [
    "<font face=\"sans-serif\" color=black size=3ptx style=\"line-height:25px;\">  \n",
    "Pour indiquer le type des données en entrée, on peut utiliser le paramètre dtype=tf.float32.</font>"
   ]
  },
  {
   "cell_type": "code",
   "execution_count": 32,
   "id": "6a8c3d00",
   "metadata": {},
   "outputs": [
    {
     "name": "stdout",
     "output_type": "stream",
     "text": [
      "tf.Tensor([1. 2. 3.], shape=(3,), dtype=float32)\n"
     ]
    }
   ],
   "source": [
    "Tensor1 = tf.constant([1, 2, 3],dtype=tf.float32)\n",
    "print(Tensor1)"
   ]
  },
  {
   "cell_type": "markdown",
   "id": "6e0697e2",
   "metadata": {},
   "source": [
    "<font face=\"sans-serif\" color=green size=4ptx style=\"line-height:25px;\">  \n",
    "<strong>Conversion depuis tenseur</strong></font><br>"
   ]
  },
  {
   "cell_type": "code",
   "execution_count": 148,
   "id": "67ceab56",
   "metadata": {},
   "outputs": [
    {
     "name": "stdout",
     "output_type": "stream",
     "text": [
      "[1. 2. 3.]\n"
     ]
    }
   ],
   "source": [
    "print(Tensor1.numpy())"
   ]
  },
  {
   "cell_type": "markdown",
   "id": "84fdf988",
   "metadata": {},
   "source": [
    "<font face=\"sans-serif\" color=blue size=5ptx style=\"line-height:35px;\">\n",
    "<strong>La class Sequential</strong></font><br>\n",
    "<font face=\"sans-serif\" color=black size=3ptx style=\"line-height:25px;\"> \n",
    "Keras fournit une classe container permettant une écriture simple et aisée pour construire des réseaux de    neurones séquentiels.<br>\n",
    "</font>\n",
    "<font face=\"sans-serif\" color=green size=4ptx style=\"line-height:35px;\">\n",
    "<strong>model.add ( )</strong></font><br>\n",
    "<font face=\"sans-serif\" color=black size=3ptx style=\"line-height:25px;\"> \n",
    "La classe modélisant le réseau séquentiel est instancié en premier :    \n",
    "<ul>\n",
    "  <li>model = keras.Sequential().</li>\n",
    "</ul>    \n",
    "On lui ajoute deux couches de type FC, créées en donnant leurs caractéristiques principales. Une couche est dite fully-connected (FC) lorsque tous les neurones de la couche précédente sont reliés à tous les neurones de la couche qui suit.</font>"
   ]
  },
  {
   "cell_type": "code",
   "execution_count": 30,
   "id": "6c146ca3",
   "metadata": {},
   "outputs": [],
   "source": [
    "from tensorflow import keras\n",
    "import numpy as np\n",
    "\n",
    "models = keras.Sequential()\n",
    "\n",
    "models.add( keras.layers.Dense(32, input_shape=(16,), activation='relu') )\n",
    "models.add( keras.layers.Dense(20) )"
   ]
  },
  {
   "cell_type": "markdown",
   "id": "ae83f0a0",
   "metadata": {},
   "source": [
    "<font face=\"sans-serif\" color=black size=3ptx style=\"line-height:25px;\">     \n",
    "Les différents paramètres pour la fonction d’activation : “relu”, “softmax”, “tanh”, “sigmoid”.<br>   \n",
    "Le paramètre input_shape est optionnel, s’il est omis, Keras utilisera la taille du tenseur fournit pour la phase d’apprentissage.  <br>  \n",
    "<strong>Note: la fonction d’activation softmax est un élément important dans la conception d’un réseau de neurones.</strong> <br>\n",
    "La fonction d’activation a pour rôle de casser la linéarité entre deux couches successives et de remettre les valeurs d’une couche dans un intervalle donné.</font> \n",
    "$${\\Large \\displaystyle \\sigma (\\mathbf {z} )_{j}={\\frac {\\mathrm {e} ^{z_{j}}}{\\sum _{k=1}^{K}\\mathrm {e} ^{z_{k}}}}}$$\n",
    "<br>\n",
    "<font face=\"sans-serif\" color=black size=3ptx style=\"line-height:25px;\"> \n",
    "Le second cas d’usage concerne davantage la fonction softmax, car le cadre d’utilisation de cette fonction est celui du problème de classification multi-classe.    \n",
    "<div><img src=\"images/softmax-15.png\" style=\"width:600px;\"/></div> \n",
    " <strong>La fonction sigmoïde</strong> est une fonction bornée non linéaire qui mappe une entrée à valeur réelle sur une sortie entre 0 et 1. Il s'agit d'une fonction mathématique utilisée dans les réseaux de neurones artificiels pour produire une sortie.<br>\n",
    "<strong>La fonction softmax </strong>est une fonction non linéaire et illimitée qui mappe une entrée à valeur réelle sur une sortie entre 0 et 1 dont la somme est égale à 1 pour chaque vecteur d'entrée.<br>  \n",
    "<font face=\"sans-serif\" color=green size=4ptx style=\"line-height:35px;\">\n",
    "<strong>Softmax est principalement utilisé dans les Réseaux de neurones artificiels et convolutifs</strong></font><br>\n",
    "<font face=\"sans-serif\" color=black size=3ptx style=\"line-height:25px;\"> \n",
    "Lors de l'utilisation de réseaux de neurones, une certaine forme de normalisation de sortie est généralement appliquée. Cette idée vise à mapper la sortie non normalisée des données à la distribution de probabilité pour les classes de sortie. Il est le plus souvent utilisé dans les couches finales d'un classificateur basé sur un réseau de neurones. Sa formation est généralement effectuée à l'aide de la perte de journal ou de l'entropie croisée.<br>\n",
    "Il s'agit d'une variante non linéaire de la régression logistique multinomiale (Softmax Regression).<br>\n",
    "<font face=\"sans-serif\" color=black size=3ptx style=\"line-height:20px;\"> \n",
    "Autres méthodes de classification multiclasses, telles que: \n",
    "<ul>\n",
    "  <li>l'analyse discriminante linéaire multiclasse (MLDA)</li>\n",
    "  <li>les classificateurs Naive Bayes, etc.</li>\n",
    "</ul>\n",
    "<font face=\"sans-serif\" color=black size=3ptx style=\"line-height:20px;\"> \n",
    "<strong>Apprentissage par renforcement :</strong> <br>\n",
    "<font face=\"sans-serif\" color=black size=3ptx style=\"line-height:20px;\"> \n",
    "La fonction Softmax peut être utimisée pour convertir les valeurs d'entrée en probabilités mises à l'échelle des actions.\n",
    "<ul>\n",
    "  <li>Softmax est utilisé pour la multi-classification dans le modèle de régression logistique,</li>\n",
    "  <li>Sigmoid est utilisé pour la classification binaire dans le modèle de régression logistique.</li>\n",
    "</ul>\n",
    "<font face=\"sans-serif\" color=green size=4ptx style=\"line-height:35px;\">\n",
    "<strong>model.summary ( ):</strong></font><br>    \n",
    "<font face=\"sans-serif\" color=black size=3ptx style=\"line-height:25px;\"> \n",
    "La fonction summary() permet d’afficher une description des différentes couches...\n",
    "</font>    "
   ]
  },
  {
   "cell_type": "code",
   "execution_count": 29,
   "id": "9ebf1fca",
   "metadata": {},
   "outputs": [
    {
     "name": "stdout",
     "output_type": "stream",
     "text": [
      "Model: \"sequential\"\n",
      "_________________________________________________________________\n",
      " Layer (type)                Output Shape              Param #   \n",
      "=================================================================\n",
      " dense (Dense)               (None, 32)                544       \n",
      "                                                                 \n",
      " dense_1 (Dense)             (None, 20)                660       \n",
      "                                                                 \n",
      "=================================================================\n",
      "Total params: 1,204\n",
      "Trainable params: 1,204\n",
      "Non-trainable params: 0\n",
      "_________________________________________________________________\n"
     ]
    }
   ],
   "source": [
    "models.summary()"
   ]
  },
  {
   "cell_type": "markdown",
   "id": "f2ab7ad3",
   "metadata": {},
   "source": [
    "<font face=\"sans-serif\" color=black size=3ptx style=\"line-height:20px;\"> \n",
    "Ainsi, la première couche FC ayant 16 valeurs en entrée et 32 neurones, nous obtenons \n",
    "<ul>\n",
    "  <li>(16*32) entrées + (1*32) biais = 544 paramètres internes.</li>   \n",
    "</ul>\n",
    "<font face=\"sans-serif\" color=black size=3ptx style=\"line-height:20px;\"> \n",
    "La deuxième couche FC réceptionne les 32 sorties de la précédente qui possèdent 20 neurones, nous avons donc \n",
    "<ul>\n",
    "  <li>(32*20) entrées * (1*20) biais = 1204 paramètres internes.  </li>\n",
    "</ul>\n",
    "En ajoutant les paramètres internes de chaque couche, on obtient un total de 1534 paramètres internes. Si la taille des données en entrée (input_shape) de la première couche n’est pas connue, la fonction summary() pourra encore fonctionner mais seulement après l’appel à la fonction fit().<br>\n",
    "<font face=\"sans-serif\" color=green size=4ptx style=\"line-height:35px;\">\n",
    "<strong>model.compile( ):</strong></font><br>  \n",
    "<font face=\"sans-serif\" color=black size=3ptx style=\"line-height:25px;\">     \n",
    "La fonction compile() permet de choisir la fonction d’erreur, l’optimiseur et la métrique utilisés lors de la phase d’apprentissage.<br> Les paramètres peuvent être transmis :\n",
    "<ul>\n",
    "  <li>soit sous forme de string : 'SGD'</li>\n",
    "  <li>soit en instanciant un objet : keras.losses.SparseCategoricalCrossentropy(from_logits=True)</li>  \n",
    "</ul>\n",
    "</font>"
   ]
  },
  {
   "cell_type": "code",
   "execution_count": 10,
   "id": "7bb88622",
   "metadata": {},
   "outputs": [],
   "source": [
    "models.compile(loss     = keras.losses.SparseCategoricalCrossentropy(from_logits=True),\n",
    "              optimizer = 'SGD',\n",
    "              metrics   = 'accuracy')"
   ]
  },
  {
   "cell_type": "markdown",
   "id": "55269708",
   "metadata": {},
   "source": [
    "<table align=\"left\" style=\"font-size:110%;\">\n",
    "<thead>\n",
    "<tr>\n",
    "<th style=\"text-align:left;\">Paramètres</th>      \n",
    "<th style=\"text-align:left;\">Arguments sous forme de string</th>\n",
    "</tr>\n",
    "</thead>\n",
    "<tbody>  \n",
    "<tr>\n",
    "<td style=\"text-align:left;\">optimizer</td>\n",
    "<td style=\"text-align:left;\">'RMSprop', 'SGD', 'Adam', 'Adadelta', 'Adagrad'</td>\n",
    "</tr>\n",
    "\n",
    "<tr>    \n",
    "<td style=\"text-align:left;\">loss</td>\n",
    "<td style=\"text-align:left;\">'binary_crossentropy', 'categorical_crossentropy', 'sparse_categorical_crossentropy', 'mse'</td>\n",
    "</tr>        \n",
    "    \n",
    "<tr>    \n",
    "<td style=\"text-align:left;\">metrics</td>\n",
    "<td style=\"text-align:left;\">'accuracy', 'mse'</td>\n",
    "</tr> \n",
    "   \n",
    "<tr>\n",
    "<th style=\"text-align:left;\">Paramètres</th>\n",
    "<th style=\"text-align:left;\">Arguments sous forme de string</th>\n",
    "</tr>  \n",
    "    \n",
    "<tr>\n",
    "<td style=\"text-align:left;\">optimizer</td>\n",
    "<td style=\"text-align:left;\">'keras.optimizers.RMSprop(…)</td>\n",
    "</tr>\n",
    "\n",
    "<tr>    \n",
    "<td style=\"text-align:left;\">loss</td>\n",
    "<td style=\"text-align:left;\">keras.losses.binary_crossentropy(…)</td>\n",
    "</tr>        \n",
    "    \n",
    "<tr>    \n",
    "<td style=\"text-align:left;\">metrics</td>\n",
    "<td style=\"text-align:left;\">keras.metrics.accuracy(…)</td>\n",
    "</tr>     \n",
    "</tbody>\n",
    "</table>"
   ]
  },
  {
   "cell_type": "markdown",
   "id": "7030e677",
   "metadata": {},
   "source": [
    "<font face=\"sans-serif\" color=black size=3ptx style=\"line-height:35px;\">\n",
    "<strong>Les différents codes peuvent être donnés avec ou sans majuscules car Keras n’est pas sensible à la casse</strong></font><br>\n",
    "<a href=\"https://towardsdatascience.com/10-gradient-descent-optimisation-algorithms-86989510b5e9\">Stochastic Gradient Descent Optimisation Algorithms + Cheatsheet</a><br>\n",
    "\n",
    "<font face=\"sans-serif\" color=red size=4ptx style=\"line-height:35px;\">\n",
    "<strong>Optimizer RMSprop  : root mean square propagation</strong></font><br>\n",
    "<font face=\"sans-serif\" color=black size=3ptx style=\"line-height:25px;\">    \n",
    "RMSProp, est l'algorithme d'optimisation pour l'apprentissage automatique des réseaux de neurones artificiels via le taux d'apprentissage adaptatif et dérivé des concepts de descente de gradient et RProp.<br>\n",
    "En combinant la moyenne sur des mini-lots, l'efficacité et les gradients sur des mini-lots successifs RMSProp peut atteindre le taux de convergence plus rapide que l'optimiseur d'origine, mais inférieur à l'optimiseur avancé tel qu'Adam.<br> \n",
    "</font>  \n",
    "<font face=\"sans-serif\" color=red size=4ptx style=\"line-height:35px;\">\n",
    "<strong>Optimizer SGD : Stochastic Gradient Descent</strong></font><br>\n",
    "<font face=\"sans-serif\" color=black size=3ptx style=\"line-height:25px;\">\n",
    "La descente de gradient stochastique est une méthode itérative pour l'optimisation de descente de gradient, puisqu'il remplace le gradient réel (calculé à partir de l'ensemble de données) par une  estimation de celui-ci (calculé à partir d'un sous-ensemble de données sélectionné au hasard). En particulier dans les problèmes d'optimisation de grande dimension, cela réduit la charge de calcul très élevée, permettant des itérations plus rapides en échange d'un taux de convergence plus faible.<br>\n",
    "</font> \n",
    "<font face=\"sans-serif\" color=red size=4ptx style=\"line-height:35px;\">\n",
    "<strong>Optimizer Adam : Adaptive Moment Estimation</strong></font><br>\n",
    "<font face=\"sans-serif\" color=black size=3ptx style=\"line-height:25px;\">  \n",
    "Adam est une mise à jour de 2014 de l'optimiseur RMSProp qui le combine avec la principale caractéristique de la méthode Momentum. Dans cet algorithme d'optimisation, des moyennes glissantes avec oubli exponentiel à la fois des gradients et des seconds moments des gradients sont utilisées.<br>\n",
    "</font> \n",
    "<font face=\"sans-serif\" color=red size=4ptx style=\"line-height:35px;\">\n",
    "<strong>Optimizer Adadelta : delta adaptatif </strong></font><br>\n",
    "<font face=\"sans-serif\" color=black size=3ptx style=\"line-height:25px;\">  \n",
    "Comme RMSprop, Adadelta (Zeiler, 2012) est également une autre amélioration d'AdaGrad, en se concentrant sur la composante du taux d'apprentissage. La différence entre Adadelta et RMSprop est qu'Adadelta supprime complètement l'utilisation du paramètre de taux d'apprentissage en le remplaçant par D, la moyenne mobile exponentielle des deltas au carré.<br>\n",
    "</font> \n",
    "<font face=\"sans-serif\" color=red size=4ptx style=\"line-height:35px;\">\n",
    "<strong>Optimizer Adagrad : adaptive gradient</strong></font><br>\n",
    "<font face=\"sans-serif\" color=black size=3ptx style=\"line-height:25px;\">  \n",
    "AdaGrad est un algorithme de descente de gradient stochastique modifié avec un taux d'apprentissage par paramètre, publié pour la première fois en 2011. De manière informelle, cela augmente le taux d'apprentissage pour les paramètres plus clairsemés et diminue le taux d'apprentissage pour ceux qui sont moins clairsemés. Cette stratégie améliore souvent les performances de convergence par rapport à la descente de gradient stochastique standard dans des contextes où les données sont clairsemées et les paramètres clairsemés sont plus informatifs. Des exemples de telles applications incluent le traitement du langage naturel et la reconnaissance d'images.<br>\n",
    "<a href=\"https://vitalflux.com/keras-categorical-cross-entropy-loss-function/#:~:text=binary_crossentropy%3A%20Used%20as%20a%20loss,two%20or%20more%20output%20labels\">Keras – Categorical Cross Entropy Loss Function</a><br>\n",
    "D'une manière générale, la fonction de perte est utilisée pour calculer la quantité que le modèle doit chercher à minimiser pendant l'apprentissage. Pour les modèles de régression, la fonction de perte couramment utilisée est la fonction d'erreur quadratiquve moyenne, tandis que pour les modèles de classification prédisant la probabilité, la fonction de perte la plus couramment utilisée est l'entropie croisée. Dans cet article, vous découvrirez différents types de fonctions de perte d'entropie croisée utilisées pour former le modèle de réseau neuronal Keras.<br>\n",
    "</font> \n",
    "<font face=\"sans-serif\" color=blue size=4ptx style=\"line-height:35px;\">\n",
    "<strong>Loss function binary_crossentropy </strong></font><br>\n",
    "<font face=\"sans-serif\" color=black size=3ptx style=\"line-height:25px;\">  \n",
    "La fonction de perte est une fonction d'optimisation qui est utilisée en cas de formation d'un modèle de classification qui classe les données en prédisant la probabilité que les données appartiennent à une classe ou à l'autre classe. L'un des exemples d'utilisation de la fonction de perte d'entropie croisée est la régression logistique.<br>\n",
    "</font> \n",
    "<font face=\"sans-serif\" color=blue size=4ptx style=\"line-height:35px;\">\n",
    "<strong>Loss function categorical_crossentropy</strong></font><br>\n",
    "<font face=\"sans-serif\" color=black size=3ptx style=\"line-height:25px;\">  \n",
    "La fonction de perte est une fonction d'optimisation qui est utilisée en cas de formation d'un modèle de classification qui classe les données en prédisant la probabilité que les données appartiennent à une classe ou à l'autre classe. L'un des exemples d'utilisation de la fonction de perte d'entropie croisée est la régression logistique.<br>\n",
    "</font> \n",
    "<font face=\"sans-serif\" color=blue size=4ptx style=\"line-height:35px;\">\n",
    "<strong>Loss function sparse_categorical_crossentropy</strong></font><br>\n",
    "<font face=\"sans-serif\" color=black size=3ptx style=\"line-height:25px;\"> \n",
    "Utilisé comme fonction de perte pour le modèle de classification multi-classes où l'étiquette de sortie se voit attribuer une valeur entière (0, 1, 2, 3…). Cette fonction de perte est mathématiquement la même que categorical_crossentropy. Il a juste une interface différente.<br>\n",
    "</font> \n",
    "<font face=\"sans-serif\" color=blue size=4ptx style=\"line-height:35px;\">\n",
    "<strong>Loss function mse : mean square error</strong></font><br>\n",
    "<font face=\"sans-serif\" color=black size=3ptx style=\"line-height:25px;\">  \n",
    "L'erreur quadratique moyenne (MSE) mesure la quantité d'erreur dans les modèles statistiques. Il évalue la différence quadratique moyenne entre les valeurs observées et prédites. Lorsqu'un modèle n'a pas d'erreur, le MSE est égal à zéro. À mesure que l'erreur du modèle augmente, sa valeur augmente. L'erreur quadratique moyenne est également appelée écart quadratique moyen (MSD).<br>\n",
    "</font> \n",
    "<font face=\"sans-serif\" color=Green size=4ptx style=\"line-height:35px;\">\n",
    "<strong>Data</strong></font><br>\n",
    "<font face=\"sans-serif\" color=black size=3ptx style=\"line-height:25px;\">  \n",
    "Nous construisons un tableau X de 2000 échantillons de 16 valeurs comme entrée du réseau ainsi qu’un tableau Y codant les 2000 réponses.\n",
    "</font> "
   ]
  },
  {
   "cell_type": "code",
   "execution_count": 11,
   "id": "95545e1a",
   "metadata": {},
   "outputs": [],
   "source": [
    "import tensorflow as tf\n",
    "X = tf.convert_to_tensor(np.ones((2000,16)))\n",
    "Y = tf.convert_to_tensor(np.ones((2000,1)))"
   ]
  },
  {
   "cell_type": "markdown",
   "id": "991c5000",
   "metadata": {},
   "source": [
    "<font face=\"sans-serif\" color=green size=4ptx style=\"line-height:15px;\"><br>\n",
    "<strong>model.fit ( ):</strong></font>\n",
    "<font face=\"sans-serif\" color=black size=3ptx style=\"line-height:25px;\">     \n",
    "La fonction fit ( ) lance l’apprentissage, les options choisies:\n",
    "<ul>\n",
    "<font face=\"sans-serif\" color=black size=3ptx style=\"line-height:25px;\">    \n",
    "    <li>verbose : 1 pour activer une barre de progression</li>\n",
    "    <li>batch_size : indique le nombre d’échantillons par itération de SGD</li> \n",
    "    <li>epoch : 10 pour donner le nombre d’epochs à traiter</li> \n",
    "</ul></font>\n",
    "<font face=\"sans-serif\" color=black size=3ptx style=\"line-height:25px;\">    \n",
    "Avec un batch_size de 20, il faut donc avec un input de 2000 échantillons : 2000/20 = 100 itérations pour compléter une epoch. Voici le déroulé affiché par la librairie.    \n",
    "</font>"
   ]
  },
  {
   "cell_type": "code",
   "execution_count": 13,
   "id": "29f7851c",
   "metadata": {},
   "outputs": [
    {
     "name": "stdout",
     "output_type": "stream",
     "text": [
      "Epoch 1/10\n",
      "100/100 [==============================] - 1s 4ms/step - loss: 0.3679 - accuracy: 0.9500\n",
      "Epoch 2/10\n",
      "100/100 [==============================] - 0s 4ms/step - loss: 0.0156 - accuracy: 1.0000\n",
      "Epoch 3/10\n",
      "100/100 [==============================] - 0s 4ms/step - loss: 0.0077 - accuracy: 1.0000\n",
      "Epoch 4/10\n",
      "100/100 [==============================] - 0s 4ms/step - loss: 0.0051 - accuracy: 1.0000\n",
      "Epoch 5/10\n",
      "100/100 [==============================] - 0s 4ms/step - loss: 0.0037 - accuracy: 1.0000\n",
      "Epoch 6/10\n",
      "100/100 [==============================] - 0s 4ms/step - loss: 0.0029 - accuracy: 1.0000\n",
      "Epoch 7/10\n",
      "100/100 [==============================] - 0s 4ms/step - loss: 0.0024 - accuracy: 1.0000\n",
      "Epoch 8/10\n",
      "100/100 [==============================] - 0s 4ms/step - loss: 0.0020 - accuracy: 1.0000\n",
      "Epoch 9/10\n",
      "100/100 [==============================] - 0s 4ms/step - loss: 0.0018 - accuracy: 1.0000\n",
      "Epoch 10/10\n",
      "100/100 [==============================] - 0s 4ms/step - loss: 0.0015 - accuracy: 1.0000\n"
     ]
    }
   ],
   "source": [
    "history  = models.fit(X, Y, verbose=1, batch_size=20, epochs=10)"
   ]
  },
  {
   "cell_type": "markdown",
   "id": "f05b69d5",
   "metadata": {},
   "source": [
    "<font face=\"sans-serif\" color=green size=4ptx style=\"line-height:15px;\"><br>\n",
    "<strong>model.evaluate ( ):</strong></font>\n",
    "<font face=\"sans-serif\" color=black size=3ptx style=\"line-height:25px;\">     \n",
    "Cette fonction permet de calculer l’erreur et la métrique associées à un nouveau set de données.     \n",
    "<ul>\n",
    "<font face=\"sans-serif\" color=black size=3ptx style=\"line-height:20px;\">     \n",
    "    <li>newdata = np.ones((1,16))</li>\n",
    "    <li>loss, metric = model.evaluate(newdata)</li> \n",
    "</ul>    "
   ]
  },
  {
   "cell_type": "code",
   "execution_count": 15,
   "id": "69e74481",
   "metadata": {},
   "outputs": [
    {
     "name": "stdout",
     "output_type": "stream",
     "text": [
      "1/1 [==============================] - 0s 43ms/step - loss: 0.0000e+00 - accuracy: 0.0000e+00\n"
     ]
    }
   ],
   "source": [
    "newdata = np.ones((1,16)) \n",
    "loss, metric = models.evaluate(newdata)"
   ]
  },
  {
   "cell_type": "markdown",
   "id": "5d5c7f28",
   "metadata": {},
   "source": [
    "<font face=\"sans-serif\" color=green size=4ptx style=\"line-height:2px;\"><br>\n",
    "<strong>model.predict ( ):</strong></font>\n",
    "<font face=\"sans-serif\" color=black size=3ptx style=\"line-height:25px;\">     \n",
    "Une fois le réseau entraîné, il est possible de demander des prédictions sur de nouvelles données      \n",
    "</font>"
   ]
  },
  {
   "cell_type": "code",
   "execution_count": 17,
   "id": "66eef77a",
   "metadata": {},
   "outputs": [
    {
     "name": "stdout",
     "output_type": "stream",
     "text": [
      "1/1 [==============================] - 0s 78ms/step\n",
      "1\n"
     ]
    }
   ],
   "source": [
    "newdata  = np.ones((1,16))\n",
    "ypred    = models.predict(newdata)\n",
    "print(ypred[0].argmax())"
   ]
  },
  {
   "cell_type": "markdown",
   "id": "c93e919b",
   "metadata": {},
   "source": [
    "<font face=\"sans-serif\" color=black size=3ptx style=\"line-height:25px;\">       \n",
    "Cette fonction désactive les couches de DropOut et ne stocke pas d’information pour la rétropropagation. \n",
    "</font>   \n",
    "<font face=\"sans-serif\" color=black size=3ptx style=\"line-height:25px;\">  \n",
    "<ul>    \n",
    "  <li>argmax() permet de retourner l’indice du logit maximal ce qui nous donne la catégorie retenue</li>  \n",
    "  <li>predict() a été conçue pour traiter des échantillons multiples d’où la taille (1,16) des données d’entrée</li>\n",
    "</ul>    \n",
    "la taille (1,16) correspond à 1 échantillon de 16 entrées et ypred[0] indiquant la réponse associée au premier échantillon.\n",
    "</font><br>\n",
    "<font face=\"sans-serif\" color=red size=5ptx style=\"line-height:35px;\">  \n",
    "<strong>Graphique</strong></font><br>\n",
    "<font face=\"sans-serif\" color=black size=3ptx style=\"line-height:25px;\">  \n",
    "La fonction fit() renvoie dictionnaire contenant les informations affichées durant la phase d’apprentissage\n",
    "</font>"
   ]
  },
  {
   "cell_type": "code",
   "execution_count": 18,
   "id": "fdc5f6ea",
   "metadata": {},
   "outputs": [
    {
     "name": "stdout",
     "output_type": "stream",
     "text": [
      "Epoch 1/10\n",
      "100/100 [==============================] - 0s 4ms/step - loss: 0.0014 - accuracy: 1.0000\n",
      "Epoch 2/10\n",
      "100/100 [==============================] - 0s 4ms/step - loss: 0.0012 - accuracy: 1.0000\n",
      "Epoch 3/10\n",
      "100/100 [==============================] - 0s 4ms/step - loss: 0.0011 - accuracy: 1.0000\n",
      "Epoch 4/10\n",
      "100/100 [==============================] - 0s 4ms/step - loss: 0.0010 - accuracy: 1.0000\n",
      "Epoch 5/10\n",
      "100/100 [==============================] - 0s 4ms/step - loss: 9.4667e-04 - accuracy: 1.0000\n",
      "Epoch 6/10\n",
      "100/100 [==============================] - 0s 4ms/step - loss: 8.7729e-04 - accuracy: 1.0000\n",
      "Epoch 7/10\n",
      "100/100 [==============================] - 0s 4ms/step - loss: 8.1701e-04 - accuracy: 1.0000\n",
      "Epoch 8/10\n",
      "100/100 [==============================] - 0s 4ms/step - loss: 7.6414e-04 - accuracy: 1.0000\n",
      "Epoch 9/10\n",
      "100/100 [==============================] - 0s 4ms/step - loss: 7.1741e-04 - accuracy: 1.0000\n",
      "Epoch 10/10\n",
      "100/100 [==============================] - 0s 4ms/step - loss: 6.7584e-04 - accuracy: 1.0000\n",
      "dict_keys(['loss', 'accuracy'])\n",
      "[0.001371260965242982, 0.001234770636074245, 0.0011219672160223126, 0.0010272657964378595, 0.0009466680930927396, 0.0008772874134592712, 0.0008170137880370021, 0.0007641434785909951, 0.0007174133788794279, 0.0006758396048098803]\n"
     ]
    }
   ],
   "source": [
    "history  = models.fit(X, Y, verbose=1, batch_size=20, epochs=10)\n",
    "\n",
    "print(history.history.keys())\n",
    "print(history.history['loss'])"
   ]
  },
  {
   "cell_type": "markdown",
   "id": "c3df200c",
   "metadata": {},
   "source": [
    "<font face=\"sans-serif\" color=black size=3ptx style=\"line-height:25px;\">       \n",
    "Ainsi, on peut récupérer ces informations pour construire le graphique associé.\n",
    "</font>"
   ]
  },
  {
   "cell_type": "code",
   "execution_count": 19,
   "id": "50383af4",
   "metadata": {},
   "outputs": [
    {
     "data": {
      "image/png": "[encoded data removed]",
      "text/plain": [
       "<Figure size 640x480 with 1 Axes>"
      ]
     },
     "metadata": {},
     "output_type": "display_data"
    }
   ],
   "source": [
    "import matplotlib.pyplot as plt\n",
    "plt.plot( history.history[\"loss\"], \"b\"  )\n",
    "plt.xlabel(\"Epochs\")\n",
    "plt.ylabel(\"Loss\")\n",
    "plt.show()"
   ]
  },
  {
   "cell_type": "markdown",
   "id": "b921d2c9",
   "metadata": {},
   "source": [
    "<font face=\"sans-serif\" color=blue size=5ptx style=\"line-height:25px;\">  \n",
    "<strong>Exemple complet</strong></font><br>"
   ]
  },
  {
   "cell_type": "code",
   "execution_count": 20,
   "id": "54cad6fd",
   "metadata": {},
   "outputs": [
    {
     "name": "stdout",
     "output_type": "stream",
     "text": [
      "Epoch 1/10\n",
      "100/100 [==============================] - 1s 4ms/step - loss: 0.3076 - accuracy: 0.9400\n",
      "Epoch 2/10\n",
      "100/100 [==============================] - 0s 4ms/step - loss: 0.0138 - accuracy: 1.0000\n",
      "Epoch 3/10\n",
      "100/100 [==============================] - 0s 4ms/step - loss: 0.0071 - accuracy: 1.0000\n",
      "Epoch 4/10\n",
      "100/100 [==============================] - 0s 4ms/step - loss: 0.0047 - accuracy: 1.0000\n",
      "Epoch 5/10\n",
      "100/100 [==============================] - 0s 5ms/step - loss: 0.0035 - accuracy: 1.0000\n",
      "Epoch 6/10\n",
      "100/100 [==============================] - 0s 4ms/step - loss: 0.0027 - accuracy: 1.0000\n",
      "Epoch 7/10\n",
      "100/100 [==============================] - 0s 4ms/step - loss: 0.0023 - accuracy: 1.0000\n",
      "Epoch 8/10\n",
      "100/100 [==============================] - 0s 4ms/step - loss: 0.0019 - accuracy: 1.0000\n",
      "Epoch 9/10\n",
      "100/100 [==============================] - 0s 4ms/step - loss: 0.0017 - accuracy: 1.0000\n",
      "Epoch 10/10\n",
      "100/100 [==============================] - 0s 4ms/step - loss: 0.0015 - accuracy: 1.0000\n",
      "Epoch 1/10\n",
      "100/100 [==============================] - 0s 4ms/step - loss: 0.0013 - accuracy: 1.0000\n",
      "Epoch 2/10\n",
      "100/100 [==============================] - 0s 4ms/step - loss: 0.0012 - accuracy: 1.0000\n",
      "Epoch 3/10\n",
      "100/100 [==============================] - 0s 4ms/step - loss: 0.0011 - accuracy: 1.0000\n",
      "Epoch 4/10\n",
      "100/100 [==============================] - 0s 5ms/step - loss: 9.8182e-04 - accuracy: 1.0000\n",
      "Epoch 5/10\n",
      "100/100 [==============================] - 0s 4ms/step - loss: 9.0583e-04 - accuracy: 1.0000\n",
      "Epoch 6/10\n",
      "100/100 [==============================] - 0s 4ms/step - loss: 8.4034e-04 - accuracy: 1.0000\n",
      "Epoch 7/10\n",
      "100/100 [==============================] - 0s 4ms/step - loss: 7.8331e-04 - accuracy: 1.0000\n",
      "Epoch 8/10\n",
      "100/100 [==============================] - 0s 4ms/step - loss: 7.3323e-04 - accuracy: 1.0000\n",
      "Epoch 9/10\n",
      "100/100 [==============================] - 0s 4ms/step - loss: 6.8892e-04 - accuracy: 1.0000\n",
      "Epoch 10/10\n",
      "100/100 [==============================] - 0s 4ms/step - loss: 6.4947e-04 - accuracy: 1.0000\n",
      "1/1 [==============================] - 0s 36ms/step - loss: 0.0000e+00 - accuracy: 0.0000e+00\n",
      "1/1 [==============================] - 0s 33ms/step\n"
     ]
    },
    {
     "data": {
      "image/png": "[encoded data removed]",
      "text/plain": [
       "<Figure size 640x480 with 1 Axes>"
      ]
     },
     "metadata": {},
     "output_type": "display_data"
    }
   ],
   "source": [
    "from tensorflow import keras\n",
    "import tensorflow as tf\n",
    "import numpy as np\n",
    "import matplotlib.pyplot as plt\n",
    "\n",
    "# création du réseau séquentiel\n",
    "model = keras.Sequential()\n",
    "model.add( keras.layers.Dense(32, input_shape=(16,), activation='relu') )\n",
    "model.add( keras.layers.Dense(20) )\n",
    "\n",
    "model.compile(loss      = keras.losses.SparseCategoricalCrossentropy(from_logits=True),\n",
    "                          optimizer = 'SGD',\n",
    "                          metrics   = 'accuracy')\n",
    "\n",
    "# entrainement\n",
    "X = tf.convert_to_tensor(np.ones((2000,16)))\n",
    "Y = tf.convert_to_tensor(np.ones((2000,1)))\n",
    "\n",
    "history  = model.fit(X, Y, verbose=1, batch_size=20, epochs=10)\n",
    "\n",
    "model.fit(X, Y, verbose=1, batch_size=20, epochs=10)\n",
    "\n",
    "# predict & evaluate\n",
    "newdata       = np.ones((1,16))\n",
    "loss, metric  = model.evaluate(newdata)\n",
    "ypred         = model.predict(newdata)\n",
    "\n",
    "# graphique\n",
    "plt.plot( history.history[\"loss\"], \"b\"  )\n",
    "plt.xlabel(\"Epochs\")\n",
    "plt.ylabel(\"Loss\")\n",
    "plt.show()"
   ]
  },
  {
   "cell_type": "markdown",
   "id": "db9a277a",
   "metadata": {},
   "source": [
    "<font face=\"sans-serif\" color=blue size=5ptx style=\"line-height:45px;\">  \n",
    "<strong>L’API Functional</strong></font><br>\n",
    "<font face=\"sans-serif\" color=green size=4ptx style=\"line-height:45px;\">  \n",
    "    <strong>Présentation</strong></font><br>\n",
    "<font face=\"sans-serif\" color=black size=3ptx style=\"line-height:25px;\">  \n",
    "Nous allons traiter l’API Functional dont l’organisation semblera familière à ceux qui pratiquent déjà un langage de programmation.<br>  \n",
    "En effet, à travers cette API, le réseau est décrit comme une suite d’opérations, chaque opération nécessitant des tenseurs en entrée pour produire un tenseur résultat. Les tenseurs représentées par des variables permettent de propager l’information à travers le réseau.<br> \n",
    "Voici un exemple simple :<br>\n",
    "</font>    "
   ]
  },
  {
   "cell_type": "code",
   "execution_count": 21,
   "id": "9df98f70",
   "metadata": {},
   "outputs": [
    {
     "name": "stdout",
     "output_type": "stream",
     "text": [
      "Model: \"model\"\n",
      "_________________________________________________________________\n",
      " Layer (type)                Output Shape              Param #   \n",
      "=================================================================\n",
      " my_input (InputLayer)       [(None, 3)]               0         \n",
      "                                                                 \n",
      " dense_4 (Dense)             (None, 64)                256       \n",
      "                                                                 \n",
      " dense_5 (Dense)             (None, 10)                650       \n",
      "                                                                 \n",
      "=================================================================\n",
      "Total params: 906\n",
      "Trainable params: 906\n",
      "Non-trainable params: 0\n",
      "_________________________________________________________________\n"
     ]
    }
   ],
   "source": [
    "from tensorflow import keras\n",
    "\n",
    "inputs   = keras.Input(shape=(3,), name=\"my_input\")\n",
    "features = keras.layers.Dense(64, activation=\"relu\")(inputs)\n",
    "outputs  = keras.layers.Dense(10, activation=\"softmax\")(features)\n",
    "model    = keras.Model(inputs=inputs, outputs=outputs)\n",
    "model.summary()"
   ]
  },
  {
   "cell_type": "markdown",
   "id": "65d86bc8",
   "metadata": {},
   "source": [
    "<font face=\"sans-serif\" color=black size=3ptx style=\"line-height:25px;\">  \n",
    "Le tenseur input est un tenseur symbolique ne représentant pas de données en particulier. L’utilisation de tenseurs symboliques permet de décrire comment les données se propagent lors du traitement.<br><br> La taille du tenseur d’entrée étant partiellement spécifiée, cette caractéristique se propage à travers les différents traitements pour contraindre la taille des tenseurs symboliques suivants.<br><br> Ainsi, apparaissent en sortie des différentes couches des tailles de la forme (None,3), (None,64), (None,10).<br><br>\n",
    "<strong>Avertissement</strong><br>\n",
    "<font face=\"sans-serif\" color=black size=3ptx style=\"line-height:15px;\"> \n",
    "Les couches de traitement acceptent aussi bien un tenseur de valeurs qu’un tenseur symbolique. Dans les deux cas, elles retournent un tenseur de même type dont les caractéristiques sont compatibles avec le tenseur d’entrée.\n",
    "</font><br>\n",
    "<font face=\"sans-serif\" color=green size=4ptx style=\"line-height:15px;\"><br>\n",
    "<strong>layers.Concatenate ():</strong></font><br>\n",
    "<font face=\"sans-serif\" color=black size=3ptx style=\"line-height:25px;\">     \n",
    "L’API functional permet de gérer plusieurs entrées de types diverses (texte, images) de les traiter et de combiner les résultats obtenus. Pour cela, une couche dédiée layers.Concatenate() permet de fusionner plusieurs tenseurs.   \n",
    "Elle prend en entrée une liste de tenseurs tous de même taille excepté pour l’axe dans lequel va avoir lieu la concaténation. Ainsi la concaténation sur l’axe 1 de deux tenseurs (1,2,5) et (1,4,5) donne un tenseur de taille (1,6,5).\n",
    "</font>"
   ]
  },
  {
   "cell_type": "code",
   "execution_count": 25,
   "id": "a72c0858",
   "metadata": {},
   "outputs": [
    {
     "data": {
      "text/plain": [
       "array([[[0, 1, 2, 3, 4],\n",
       "        [5, 6, 7, 8, 9]]])"
      ]
     },
     "execution_count": 25,
     "metadata": {},
     "output_type": "execute_result"
    }
   ],
   "source": [
    "x = np.arange(10).reshape(1,2, 5)\n",
    "x"
   ]
  },
  {
   "cell_type": "code",
   "execution_count": 26,
   "id": "c83f2fdc",
   "metadata": {},
   "outputs": [
    {
     "data": {
      "text/plain": [
       "array([[[10, 11, 12, 13, 14],\n",
       "        [15, 16, 17, 18, 19],\n",
       "        [20, 21, 22, 23, 24],\n",
       "        [25, 26, 27, 28, 29]]])"
      ]
     },
     "execution_count": 26,
     "metadata": {},
     "output_type": "execute_result"
    }
   ],
   "source": [
    "y = np.arange(10, 30).reshape(1,4,5)\n",
    "y"
   ]
  },
  {
   "cell_type": "code",
   "execution_count": 27,
   "id": "d37c45ba",
   "metadata": {},
   "outputs": [
    {
     "data": {
      "text/plain": [
       "<tf.Tensor: shape=(1, 6, 5), dtype=int64, numpy=\n",
       "array([[[ 0,  1,  2,  3,  4],\n",
       "        [ 5,  6,  7,  8,  9],\n",
       "        [10, 11, 12, 13, 14],\n",
       "        [15, 16, 17, 18, 19],\n",
       "        [20, 21, 22, 23, 24],\n",
       "        [25, 26, 27, 28, 29]]])>"
      ]
     },
     "execution_count": 27,
     "metadata": {},
     "output_type": "execute_result"
    }
   ],
   "source": [
    "z = tf.keras.layers.Concatenate(axis=1)([x, y])\n",
    "z"
   ]
  },
  {
   "cell_type": "markdown",
   "id": "2c1973bb",
   "metadata": {},
   "source": [
    "<font face=\"sans-serif\" color=green size=4ptx style=\"line-height:15px;\"><br>\n",
    "<strong>Graph de calcul</strong></font><br>\n",
    "<font face=\"sans-serif\" color=black size=3ptx style=\"line-height:25px;\">     \n",
    "Grâce à l’API Functional, il est possible de traiter plusieurs sources de données en entrée, de concaténer leurs résultats, et d’appliquer plusieurs traitements pour obtenir plusieurs prédictions en parallèle :</font>\n",
    "<div> \n",
    "    <img src=\"images/kerasgraphcalc.png\" style=\"width:600px;\"/>\n",
    "</div> \n",
    " <font face=\"sans-serif\" color=black size=3ptx style=\"line-height:25px;\"> \n",
    "Basiquement, cette logique de traitement s’écrit comme une suite de calculs :</font><br><br>\n",
    "\n",
    "    images      = keras.Input(shape=(...), name=\"input_images\")\n",
    "    texts       = keras.Input(shape=(...), name=\"input_text\")\n",
    "    \n",
    "    L12         = layer2(layer1(images))\n",
    "    L34         = layer4(layer3(texts))\n",
    "    \n",
    "    concat      = layers.Concatenate()([L12,L34])\n",
    "    L5          = layer5(concat)\n",
    "    \n",
    "    Temperature = layers7(layers6(L5)\n",
    "    Pression    = layer8(L5)    \n",
    "    \n",
    "<font face=\"sans-serif\" color=green size=4ptx style=\"line-height:15px;\"><br>\n",
    "<strong>Gestion des entrées/sorties multiples</strong></font><br>\n",
    "<font face=\"sans-serif\" color=black size=3ptx style=\"line-height:25px;\">  \n",
    "A chaque étape, il faudra préciser les informations associées aux entrées/sorties multiples dans des listes :<br><br>\n",
    "model = keras.Model(inputs=[images,texts], outputs=[Temperature,Pression])<br>\n",
    "model.compile(optimizer=..., loss = [ loss1, loss2 ], metrics = [ metric1, metric2])<br><br>\n",
    "Les tenseurs de données d’entrée sont transmis à la fonction fit() comme habituellement.<br>\n",
    "Dans cette configuration, il faudra créer des tenseurs accueillant les résultats en sortie et les données comme arguments à la fonction fit() :</font><br><br>    \n",
    "\n",
    "        image_data = ...\n",
    "        text_data  = ...\n",
    "        OutTemp  = np.empty(...)\n",
    "        \n",
    "        OutPress = np.empty(...)\n",
    "        \n",
    "        model.fit([image_data, text_data],[OutTemp, OutPress],epochs = 20)"
   ]
  },
  {
   "cell_type": "markdown",
   "id": "3ac3e5f2",
   "metadata": {},
   "source": [
    "<font face=\"sans-serif\" color=blue size=5ptx style=\"line-height:45px;\">  \n",
    "<strong>La class Model</strong></font><br>\n",
    "<font face=\"sans-serif\" color=black size=3ptx style=\"line-height:25px;\">   \n",
    "Si vous savez créer une sous-classe en Python, cette 3-ième approche vous semblera tout aussi abordable que les deux précédentes. Dans cette version, la construction d’un réseau se fait en dérivant la classe Model. Il faudra dans votre sous-classe :    \n",
    "<ul>\n",
    "  <li>Penser à chaîner le constructeur vers la classe parent</li>\n",
    "  <li>Instancier les différentes couches dans le constructeur</li>\n",
    "  <li>Créer une fonction call() pour gérer la passe Forward</li>\n",
    "  <li>Dispatcher les différents inputs à partir du dictionnaire passé en paramètre</li>\n",
    "  <li>Retourner l’ensemble des tenseurs de sortie</li>\n",
    "</ul> \n",
    "</font>\n",
    "<font face=\"sans-serif\" color=black size=3ptx style=\"line-height:25px;\">\n",
    "Voici un schéma simplifié :\n",
    "</font> \n",
    "    \n",
    "class MonModel(keras.Model):\n",
    "\n",
    "        def __init__(self,...):\n",
    "                super().__init__()      # chaînage des constructeurs\n",
    "                self.layer1 = ...\n",
    "                self.layer2 = ...\n",
    "                ..\n",
    "                self.layer6 = ...\n",
    "                self.layer7 = ...\n",
    "\n",
    "        def call(self,inputs):\n",
    "                # les différents inputs sont transmis à travers un dictionnaire\n",
    "                text        = inputs[\\'input_text\\']\n",
    "                images      = inputs[\\'input_images\\']\n",
    "\n",
    "                # passe Forward\n",
    "                L12         = layer2(layer1(images))\n",
    "                L34         = layer4(layer3(texts))\n",
    "                concat      = layers.Concatenate()([L12,L34])\n",
    "                L5          = layer5(concat)\n",
    "                Temperature = layers7(layers6(L5)\n",
    "                Pression    = layer8(L5)\n",
    "\n",
    "                # retour des différents tenseurs de sortie à travers un tuple\n",
    "                return Temperature, Pression\n",
    "   "
   ]
  },
  {
   "cell_type": "markdown",
   "id": "32a5c552",
   "metadata": {},
   "source": [
    "<font face=\"sans-serif\" color=red size=6ptx style=\"line-height:45px;\">  \n",
    "<strong>Trucs et astuces</strong></font><br>\n",
    "<font face=\"sans-serif\" color=green size=4ptx style=\"line-height:45px;\">  \n",
    "    <strong>Save/load</strong></font><br>\n",
    "<font face=\"sans-serif\" color=black size=3ptx style=\"line-height:25px;\">  \n",
    "Après avoir entraîné un modèle, il est possible de le sauvegarder entièrement (topologie et paramètres internes) dans un fichier. Il est tout aussi simple de recharger un modèle par la suite, afin par exemple de poursuivre l’entraînement :<br>\n",
    "<ul>    \n",
    "    <li>model.save('myfile')</li>\n",
    "    <li>keras.models.load_model('myfile')</li><br>\n",
    "</ul> \n",
    "<font face=\"sans-serif\" color=green size=4ptx style=\"line-height:45px;\">  \n",
    "    <strong>Callback</strong></font><br>\n",
    "<font face=\"sans-serif\" color=black size=3ptx style=\"line-height:25px;\">  \n",
    "En informatique, une fonction de callback désigne une fonction passée en paramètre à un système. Le système décidera par la suite d’appeler cette fonction au moment opportun. Les fonctions de callback représentent les bases des interfaces graphiques modernes. Ainsi, lorsque vous cliquez/appuyez sur un bouton de l’interface, c’est l’objet bouton qui va rechercher si une fonction de callback est associée à l’évènement de clic et s’il en trouve une, il l’appellera en conséquence. On peut citer aussi les API3D temps réel qui appellent la fonction de rendu uniquement lorsque le système est prêt à effectuer un nouveau calcul d’image. Si des données doivent persister d’un appel à l’autre de la fonction de callback, alors on utilise un objet de callback qui joue exactement le même rôle.<br><br>\n",
    "Keras permet d’utiliser un mécanisme de callback associée à la fonction fit() ceci à chaque fin de traitement d’une epoch. Les objectifs peuvent être variés :<br>\n",
    "<ul>\n",
    "    <li>Sauvegarder l’état du réseau sur le disque, les coupures électriques, cela peut arriver :)</li>\n",
    "    <li>Arrêter l’apprentissage si la fonction d’erreur ne diminue plus et passer à une autre expérience.</li>\n",
    "    <li>Tracer régulièrement le graphique les performances réseau et plus à la fin de l’apprentissage</li>\n",
    "    <li>Sauvegarder/Afficher des données ou des tracés intermédiaires sur le disque</li>  \n",
    "</ul>\n",
    "</font>\n",
    "<font face=\"sans-serif\" color=green size=4ptx style=\"line-height:45px;\">  \n",
    "    <strong>Les callback existants</strong></font><br>\n",
    "<font face=\"sans-serif\" color=black size=3ptx style=\"line-height:25px;\">      \n",
    "Keras fournit plusieurs callbacks préprogrammés dans keras.callbacks, notamment le callback ModelCheckpoint permettant de sauvegarder le modèle régulièrement ou lorsqu’il atteint une meilleure précision.<br> \n",
    "Voici un exemple :\n",
    "<ul>\n",
    "<li>mycallback = keras.callbacks.ModelCheckpoint(filepath='Directory', monitor='val_loss', save_best_only = True)</li>\n",
    "<li>...</li>\n",
    "<li>model.fit(..., callbacks = [ mycallback ])</li> \n",
    "</ul>\n",
    "</font>\n",
    "<font face=\"sans-serif\" color=green size=4ptx style=\"line-height:45px;\">  \n",
    "    <strong>Ecrire sont propre callback</strong></font><br>\n",
    "<font face=\"sans-serif\" color=black size=3ptx style=\"line-height:25px;\">\n",
    "Si vous voulez effectuer une action spécifique, vous pouvez définir votre propre callback en dérivant la classe keras.callbacks.Callback en utilisant les méthodes suivantes :    \n",
    "<ul>\n",
    "<li>on_epoch_begin/on_epoch_end(epoch,logs) : appelé à chaque début/fin d’epoch</li>\n",
    "<li>on_batch_begin/on_batch_end(batch,logs) : appelé à chaque début/fin de batch</li>\n",
    "<li>on_train_begin/on_train_start(logs) : appelé au début/à la fin de l’apprentissage</li> \n",
    "</ul>\n",
    "Le paramètre logs correspond à un dictionnaire stockant les valeurs d’erreur. Les paramètres epoch et batch stockent le numéro de l’itération correspondante. Voici un exemple traçant la courbe d’erreur et fur et à mesure que l’apprentissage progresse, version à utiliser dans un script Python :\n",
    "</font>\n",
    "\n",
    "      class LossHistory(keras.callbacks.Callback): \n",
    "    \n",
    "         def on_train_begin(self, logs):\n",
    "                self.data = []\n",
    "                plt.ion()      # interactive mode\n",
    "                self.fig = plt.figure()\n",
    "                self.ax  = self.fig.add_subplot(111)\n",
    "    \n",
    "        def on_batch_end(self, batch, logs):\n",
    "                self.data.append(logs[\"loss\"])\n",
    "    \n",
    "        def on_epoch_end(self, epoch, logs):\n",
    "                self.ax.cla()                   # clear figure\n",
    "                self.ax.plot(self.data)         # plot\n",
    "                self.fig.canvas.draw()\n",
    "                self.fig.canvas.flush_events()  # force update\n",
    "    \n",
    "      model.fit(X, Y, batch_size=20, epochs=10, callbacks = [LossHistory()], verbose=1 ) \n",
    "    \n",
    "    \n",
    " <font face=\"sans-serif\" color=black size=3ptx style=\"line-height:25px;\">   \n",
    " A chaque fin d’epoch, l’affichage de la courbe d’erreur est mis à jour à l’écran  \n",
    "<div> \n",
    "    <img src=\"images/curve.gif\" style=\"width:400px;\"/>\n",
    "</div>  \n",
    "Une variante pour jupyter notebook     \n",
    "</font>   \n",
    "   \n",
    "    from IPython.display import clear_output\n",
    "    class LossHistory(keras.callbacks.Callback):\n",
    "    \n",
    "        def on_train_begin(self, logs):\n",
    "                self.data = []\n",
    "                self.fig = plt.figure()\n",
    "\n",
    "        def on_batch_end(self, batch, logs):\n",
    "                self.data.append(logs[\"loss\"]    )\n",
    "\n",
    "        def on_epoch_end(self, epoch, logs):\n",
    "                clear_output(wait=True)\n",
    "                plt.plot(self.data)\n",
    "                plt.show()\n",
    "\n",
    "    # mettez verbose = 0 si l'affichage texte perturbe l'affichage graphique\n",
    "    model.fit(X, Y, batch_size=20, epochs=10, callbacks = [LossHistory()], verbose= 1) "
   ]
  },
  {
   "cell_type": "markdown",
   "id": "e6c97c3a",
   "metadata": {},
   "source": [
    "<font face=\"sans-serif\" color=green size=4ptx style=\"line-height:25px;\">  \n",
    "<strong>Tensorboard</strong></font><br>\n",
    "<font face=\"sans-serif\" color=black size=3ptx style=\"line-height:25px;\"> \n",
    "L’affichage dynamique avec matplotlib et la technique de callback nous a permis d’avoir une visualisation graphique basique de la courbe d’erreur. L’affichage dynamique avec matplotlib et la technique de callback nous a permis d’avoir une visualisation graphique basique de la courbe d’erreur.<br>\n",
    "Si l’on cherche une interface offrant plus d’options (zoom, sélection), Tensorboard permet de visualiser interactivement les différentes informations issues de la phase d’apprentissage. <br>\n",
    "La technique consiste à sauvegarder régulièrement sur le disque les informations issues des métriques durant l’apprentissage ceci en utilisant le callback fourni par Tensorboard. <br>\n",
    "En parallèle, vous démarrez un serveur local Tensorboard qui fournit une adresse web locale pour accéder à son frontend. Ce service accède aux données disponibles dans le répertoire de log. Il reste à lancer votre navigateur pour consulter cette page web de monitoring.<br>\n",
    "En version poste, localisez le répertoire de votre installation Python.<br> \n",
    "Dans une fenêtre de commande, démarrez le serveur Tensorboard en tapant :\n",
    "\n",
    "    python -m tensorboard.main\n",
    "    Serving TensorBoard on localhost;\n",
    "    TensorBoard 2.11.0 at http://localhost:6006/\n",
    "\n",
    "<font face=\"sans-serif\" color=black size=3ptx style=\"line-height:25px;\">\n",
    "Voici l’interface que vous obtenez dans le navigateur \n",
    "<div> \n",
    "    <img src=\"images/tensorboard.png\" style=\"width:600px;\"/>\n",
    "</div>  \n",
    "Il reste à mettre en place le callback de Tensorboard dans la fonction fit() de Keras :\n",
    "    \n",
    "    tensorboard = keras.callbacks.TensorBoard(log_dir=\"/path_to_log_dir\",)\n",
    "    model.fit(...,callbacks=[tensorboard])\n",
    "    \n",
    "Pour que Tensorboard fonctionne, il faut que le répertoire donné à la fonction de callback dans Keras soit le même que celui utilisé par le serveur.\n",
    "    \n",
    "Dans un notebook Colab, l’affichage n’est pour l’instant pas dynamique car accessible uniquement une fois l’entraînement terminé. Pour exécuter un service TensorBoard depuis un notebook, utilisez les commandes suivantes : </font>\n",
    "    \n",
    "    %load_ext tensorboard\n",
    "    %tensorboard --logdir /full_path_to_your_log_dir\n",
    "    \n",
    "<font face=\"sans-serif\" color=black size=3ptx style=\"line-height:25px;\">    \n",
    "Il reste à créer un callback dans Colab :\n",
    "</font>    \n",
    "    \n",
    "    logdir = os.path.join(\"logs\", datetime.datetime.now().strftime(\"%Y%m%d-%H%M%S\"))\n",
    "    tensorboard_callback = tf.keras.callbacks.TensorBoard(logdir, histogram_freq=1)\n",
    "    ...\n",
    "    model.fit(..., callbacks=[tensorboard_callback])\n",
    "    "
   ]
  },
  {
   "cell_type": "code",
   "execution_count": 33,
   "id": "eed60db6",
   "metadata": {},
   "outputs": [],
   "source": [
    "import numpy as np\n",
    "from tensorflow import keras\n",
    "from keras import backend as K\n",
    "from keras import optimizers\n",
    "from keras.models import Sequential\n",
    "from keras.layers import Dense, Conv2D, Flatten\n",
    "\n",
    "from keras.models import Model\n",
    "from keras.models import load_model\n",
    "\n",
    "import matplotlib.pyplot as plt"
   ]
  },
  {
   "cell_type": "code",
   "execution_count": 34,
   "id": "94b6c39d",
   "metadata": {},
   "outputs": [],
   "source": [
    "from keras.datasets import mnist\n",
    "from keras.utils import to_categorical\n",
    "\n",
    "(X_train_data, Y_train_data), (X_test_data, Y_test_data) = mnist.load_data()"
   ]
  },
  {
   "cell_type": "code",
   "execution_count": 37,
   "id": "5a2324e3",
   "metadata": {},
   "outputs": [
    {
     "name": "stdout",
     "output_type": "stream",
     "text": [
      "60000\n"
     ]
    }
   ],
   "source": [
    "N = X_train_data.shape[0]  # 60 000 données\n",
    "print(N)"
   ]
  },
  {
   "cell_type": "code",
   "execution_count": 38,
   "id": "eba7ca3b",
   "metadata": {},
   "outputs": [],
   "source": [
    "X_train = np.reshape(X_train_data, (N,28,28,1))"
   ]
  },
  {
   "cell_type": "code",
   "execution_count": 39,
   "id": "ca4e46c5",
   "metadata": {},
   "outputs": [
    {
     "name": "stdout",
     "output_type": "stream",
     "text": [
      "(60000, 28, 28, 1)\n"
     ]
    }
   ],
   "source": [
    "print(X_train.shape)"
   ]
  },
  {
   "cell_type": "code",
   "execution_count": 41,
   "id": "0894c455",
   "metadata": {},
   "outputs": [
    {
     "name": "stdout",
     "output_type": "stream",
     "text": [
      "(3, 4, 4)\n"
     ]
    }
   ],
   "source": [
    "import numpy as np\n",
    "\n",
    "arr = np.array([[[1,1,1,1], [1,1,1,1], [1,1,1,1], [1,1,1,1]],\n",
    "                [[1,1,1,1], [1,1,1,1], [1,1,1,1], [1,1,1,1]],\n",
    "                [[1,1,1,1], [1,1,1,1], [1,1,1,1], [1,1,1,1]]])\n",
    "M = arr.shape\n",
    "print(M)"
   ]
  },
  {
   "cell_type": "code",
   "execution_count": 44,
   "id": "9bb2e1ad",
   "metadata": {},
   "outputs": [
    {
     "name": "stdout",
     "output_type": "stream",
     "text": [
      "(3, 4, 4, 1)\n"
     ]
    }
   ],
   "source": [
    "arr_t = np.reshape(arr, (arr.shape[0],4,4,1))\n",
    "print(arr_t.shape)\n",
    "#print(arr_t)"
   ]
  },
  {
   "cell_type": "code",
   "execution_count": 45,
   "id": "c093770e",
   "metadata": {},
   "outputs": [
    {
     "data": {
      "text/plain": [
       "10000"
      ]
     },
     "execution_count": 45,
     "metadata": {},
     "output_type": "execute_result"
    }
   ],
   "source": [
    "X_test_data.shape[0]"
   ]
  },
  {
   "cell_type": "code",
   "execution_count": 47,
   "id": "f2b97a68",
   "metadata": {},
   "outputs": [
    {
     "data": {
      "text/plain": [
       "(10000, 28, 28, 1)"
      ]
     },
     "execution_count": 47,
     "metadata": {},
     "output_type": "execute_result"
    }
   ],
   "source": [
    "X_test = np.reshape(X_test_data, (X_test_data.shape[0],28,28,1))\n",
    "X_test.shape"
   ]
  },
  {
   "cell_type": "code",
   "execution_count": 54,
   "id": "7954982d",
   "metadata": {},
   "outputs": [],
   "source": [
    "X_train = X_train/255"
   ]
  },
  {
   "cell_type": "code",
   "execution_count": 55,
   "id": "88f06fc6",
   "metadata": {},
   "outputs": [
    {
     "data": {
      "text/plain": [
       "(60000, 28, 28, 1)"
      ]
     },
     "execution_count": 55,
     "metadata": {},
     "output_type": "execute_result"
    }
   ],
   "source": [
    "X_train.shape"
   ]
  },
  {
   "cell_type": "code",
   "execution_count": 56,
   "id": "efb832fb",
   "metadata": {},
   "outputs": [],
   "source": [
    "Y_train = to_categorical(Y_train_data, num_classes=10)"
   ]
  },
  {
   "cell_type": "code",
   "execution_count": 57,
   "id": "6ce8964a",
   "metadata": {},
   "outputs": [
    {
     "data": {
      "text/plain": [
       "array([[0., 0., 0., ..., 0., 0., 0.],\n",
       "       [1., 0., 0., ..., 0., 0., 0.],\n",
       "       [0., 0., 0., ..., 0., 0., 0.],\n",
       "       ...,\n",
       "       [0., 0., 0., ..., 0., 0., 0.],\n",
       "       [0., 0., 0., ..., 0., 0., 0.],\n",
       "       [0., 0., 0., ..., 0., 1., 0.]], dtype=float32)"
      ]
     },
     "execution_count": 57,
     "metadata": {},
     "output_type": "execute_result"
    }
   ],
   "source": [
    "Y_train"
   ]
  },
  {
   "cell_type": "code",
   "execution_count": 66,
   "id": "d2b21c4f",
   "metadata": {},
   "outputs": [],
   "source": [
    "from IPython.display import clear_output\n",
    "class LossHistory(keras.callbacks.Callback):\n",
    "\n",
    "    def on_train_begin(self, logs):\n",
    "            self.data = []\n",
    "            self.fig = plt.figure()\n",
    "\n",
    "    def on_batch_end(self, batch, logs):\n",
    "            self.data.append(logs[\"loss\"]    )\n",
    "\n",
    "    def on_epoch_end(self, epoch, logs):\n",
    "            clear_output(wait=True)\n",
    "            plt.plot(self.data)\n",
    "            plt.show()\n",
    "\n",
    "# mettez verbose = 0 si l'affichage texte perturbe l'affichage graphique\n",
    "#model.fit(X, Y, batch_size=20, epochs=10, callbacks = [LossHistory()], verbose= 1) "
   ]
  },
  {
   "cell_type": "code",
   "execution_count": 88,
   "id": "1f704206",
   "metadata": {},
   "outputs": [
    {
     "name": "stdout",
     "output_type": "stream",
     "text": [
      "The tensorboard extension is already loaded. To reload it, use:\n",
      "  %reload_ext tensorboard\n"
     ]
    },
    {
     "data": {
      "text/html": [
       "\n",
       "      <iframe id=\"tensorboard-frame-9c60cf65d238d5ed\" width=\"100%\" height=\"800\" frameborder=\"0\">\n",
       "      </iframe>\n",
       "      <script>\n",
       "        (function() {\n",
       "          const frame = document.getElementById(\"tensorboard-frame-9c60cf65d238d5ed\");\n",
       "          const url = new URL(\"/\", window.location);\n",
       "          const port = 6006;\n",
       "          if (port) {\n",
       "            url.port = port;\n",
       "          }\n",
       "          frame.src = url;\n",
       "        })();\n",
       "      </script>\n",
       "    "
      ],
      "text/plain": [
       "<IPython.core.display.HTML object>"
      ]
     },
     "metadata": {},
     "output_type": "display_data"
    },
    {
     "name": "stdout",
     "output_type": "stream",
     "text": [
      "Epoch 1/5\n",
      "782/782 [==============================] - 63s 71ms/step - loss: 4.7157 - accuracy: 0.0774\n",
      "Epoch 2/5\n",
      "782/782 [==============================] - 48s 62ms/step - loss: 4.0960 - accuracy: 0.1409\n",
      "Epoch 3/5\n",
      "782/782 [==============================] - 48s 62ms/step - loss: 4.1982 - accuracy: 0.1088\n",
      "Epoch 4/5\n",
      "782/782 [==============================] - 48s 61ms/step - loss: 3.7479 - accuracy: 0.1659\n",
      "Epoch 5/5\n",
      "782/782 [==============================] - 47s 60ms/step - loss: 3.8864 - accuracy: 0.1669\n"
     ]
    },
    {
     "data": {
      "text/plain": [
       "<keras.callbacks.History at 0x5abb9a4d0>"
      ]
     },
     "execution_count": 88,
     "metadata": {},
     "output_type": "execute_result"
    }
   ],
   "source": [
    "import os\n",
    "import datetime\n",
    "import tensorflow as tf\n",
    "from tensorflow import keras\n",
    "from tensorflow.keras.callbacks import TensorBoard \n",
    "\n",
    "%load_ext tensorboard \n",
    "%tensorboard --logdir /tmp/tensorboard\n",
    "\n",
    "\n",
    "tensorboard = keras.callbacks.TensorBoard(log_dir=\"/tmp/tensorboard\",)\n",
    "\n",
    "logdir = os.path.join(\"logs\", datetime.datetime.now().strftime(\"%Y%m%d-%H%M%S\"))\n",
    "tensorboard_callback = tf.keras.callbacks.TensorBoard(logdir, histogram_freq=1)\n",
    "\n",
    "#model.fit(...,callbacks=[tensorboard])\n",
    "\n",
    "cifar = tf.keras.datasets.cifar100\n",
    "(x_train, y_train), (x_test, y_test) = cifar.load_data()\n",
    "model = tf.keras.applications.ResNet50(\n",
    "    include_top=True,\n",
    "    weights=None,\n",
    "    input_shape=(32, 32, 3),\n",
    "    classes=100,)\n",
    "\n",
    "loss_fn = tf.keras.losses.SparseCategoricalCrossentropy(from_logits=False)\n",
    "model.compile(optimizer=\"adam\", loss=loss_fn, metrics=[\"accuracy\"])\n",
    "#model.fit(x_train, y_train, epochs=5, batch_size=64)\n",
    "#model.fit(x_train, y_train, batch_size=64, epochs=5, callbacks = [LossHistory()], verbose= 1) \n",
    "model.fit(x_train, y_train, batch_size=64, epochs=5, callbacks = [tensorboard], verbose= 1) "
   ]
  },
  {
   "cell_type": "code",
   "execution_count": null,
   "id": "d1f4a0dd",
   "metadata": {},
   "outputs": [],
   "source": []
  }
 ],
 "metadata": {
  "kernelspec": {
   "display_name": "Python 3 (ipykernel)",
   "language": "python",
   "name": "python3"
  },
  "language_info": {
   "codemirror_mode": {
    "name": "ipython",
    "version": 3
   },
   "file_extension": ".py",
   "mimetype": "text/x-python",
   "name": "python",
   "nbconvert_exporter": "python",
   "pygments_lexer": "ipython3",
   "version": "3.10.10"
  }
 },
 "nbformat": 4,
 "nbformat_minor": 5
}
