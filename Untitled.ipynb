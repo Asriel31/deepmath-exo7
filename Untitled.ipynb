{
 "cells": [
  {
   "cell_type": "code",
   "execution_count": 1,
   "id": "ce5bead2",
   "metadata": {},
   "outputs": [],
   "source": [
    "import numpy as np\n",
    "from tensorflow import keras\n",
    "from keras import backend as K\n",
    "from keras import optimizers\n",
    "from keras.models import Sequential\n",
    "from keras.layers import Dense, Conv2D, Flatten\n",
    "\n",
    "from keras.models import Model\n",
    "from keras.models import load_model\n",
    "\n",
    "import matplotlib.pyplot as plt"
   ]
  },
  {
   "cell_type": "code",
   "execution_count": 2,
   "id": "c9d99f6c",
   "metadata": {},
   "outputs": [],
   "source": [
    "from keras.datasets import mnist\n",
    "from keras.utils import to_categorical\n",
    "\n",
    "(X_train_data, Y_train_data), (X_test_data, Y_test_data) = mnist.load_data()"
   ]
  },
  {
   "cell_type": "code",
   "execution_count": 116,
   "id": "b8f97e97",
   "metadata": {},
   "outputs": [
    {
     "name": "stdout",
     "output_type": "stream",
     "text": [
      "(60000, 28, 28)\n"
     ]
    }
   ],
   "source": [
    "N = X_train_data.shape  # 60 000 données\n",
    "print(N)"
   ]
  },
  {
   "cell_type": "code",
   "execution_count": 23,
   "id": "a0d37edf",
   "metadata": {},
   "outputs": [],
   "source": [
    "X_train = np.reshape(X_train_data, (N,28,28,1))"
   ]
  },
  {
   "cell_type": "code",
   "execution_count": 115,
   "id": "a9633628",
   "metadata": {},
   "outputs": [
    {
     "name": "stdout",
     "output_type": "stream",
     "text": [
      "(60000, 28, 28, 1)\n"
     ]
    }
   ],
   "source": [
    "print(X_train.shape)"
   ]
  },
  {
   "cell_type": "code",
   "execution_count": 106,
   "id": "296475a7",
   "metadata": {},
   "outputs": [
    {
     "name": "stdout",
     "output_type": "stream",
     "text": [
      "(3, 4, 4)\n"
     ]
    }
   ],
   "source": [
    "import numpy as np\n",
    "\n",
    "arr = np.array([\n",
    "                [[1,1,1,1], [1,1,1,1],\n",
    "                 [1,1,1,1], [1,1,1,1]],\n",
    "                [[1,1,1,1], [1,1,1,1],\n",
    "                 [1,1,1,1], [1,1,1,1]],\n",
    "                [[1,1,1,1], [1,1,1,1],\n",
    "                 [1,1,1,1], [1,1,1,1]]\n",
    "               ])\n",
    "\n",
    "M = arr.shape\n",
    "print(M)"
   ]
  },
  {
   "cell_type": "code",
   "execution_count": 107,
   "id": "82fbe004",
   "metadata": {},
   "outputs": [
    {
     "name": "stdout",
     "output_type": "stream",
     "text": [
      "(3, 4, 4, 1)\n",
      "[[[[1]\n",
      "   [1]\n",
      "   [1]\n",
      "   [1]]\n",
      "\n",
      "  [[1]\n",
      "   [1]\n",
      "   [1]\n",
      "   [1]]\n",
      "\n",
      "  [[1]\n",
      "   [1]\n",
      "   [1]\n",
      "   [1]]\n",
      "\n",
      "  [[1]\n",
      "   [1]\n",
      "   [1]\n",
      "   [1]]]\n",
      "\n",
      "\n",
      " [[[1]\n",
      "   [1]\n",
      "   [1]\n",
      "   [1]]\n",
      "\n",
      "  [[1]\n",
      "   [1]\n",
      "   [1]\n",
      "   [1]]\n",
      "\n",
      "  [[1]\n",
      "   [1]\n",
      "   [1]\n",
      "   [1]]\n",
      "\n",
      "  [[1]\n",
      "   [1]\n",
      "   [1]\n",
      "   [1]]]\n",
      "\n",
      "\n",
      " [[[1]\n",
      "   [1]\n",
      "   [1]\n",
      "   [1]]\n",
      "\n",
      "  [[1]\n",
      "   [1]\n",
      "   [1]\n",
      "   [1]]\n",
      "\n",
      "  [[1]\n",
      "   [1]\n",
      "   [1]\n",
      "   [1]]\n",
      "\n",
      "  [[1]\n",
      "   [1]\n",
      "   [1]\n",
      "   [1]]]]\n"
     ]
    }
   ],
   "source": [
    "arr_t = np.reshape(arr, (arr.shape[0],4,4,1))\n",
    "print(arr_t.shape)\n",
    "print(arr_t)"
   ]
  },
  {
   "cell_type": "code",
   "execution_count": 53,
   "id": "ee005f1a",
   "metadata": {},
   "outputs": [
    {
     "data": {
      "text/plain": [
       "10000"
      ]
     },
     "execution_count": 53,
     "metadata": {},
     "output_type": "execute_result"
    }
   ],
   "source": [
    "X_test_data.shape[0]"
   ]
  },
  {
   "cell_type": "code",
   "execution_count": 56,
   "id": "ea98681a",
   "metadata": {},
   "outputs": [],
   "source": [
    "X_test = np.reshape(X_test_data, (X_test_data.shape[0],28,28,1))"
   ]
  },
  {
   "cell_type": "code",
   "execution_count": 57,
   "id": "d0b8ac02",
   "metadata": {},
   "outputs": [],
   "source": [
    "X_train = X_train/255"
   ]
  },
  {
   "cell_type": "code",
   "execution_count": 60,
   "id": "e6295df3",
   "metadata": {},
   "outputs": [
    {
     "data": {
      "text/plain": [
       "array([[0., 0., 0., ..., 0., 0., 0.],\n",
       "       [1., 0., 0., ..., 0., 0., 0.],\n",
       "       [0., 0., 0., ..., 0., 0., 0.],\n",
       "       ...,\n",
       "       [0., 0., 0., ..., 0., 0., 0.],\n",
       "       [0., 0., 0., ..., 0., 0., 0.],\n",
       "       [0., 0., 0., ..., 0., 1., 0.]], dtype=float32)"
      ]
     },
     "execution_count": 60,
     "metadata": {},
     "output_type": "execute_result"
    }
   ],
   "source": [
    "Y_train"
   ]
  },
  {
   "cell_type": "code",
   "execution_count": 70,
   "id": "a7501e15",
   "metadata": {},
   "outputs": [],
   "source": [
    "Y_train = to_categorical(Y_train_data, num_classes=10)"
   ]
  },
  {
   "cell_type": "code",
   "execution_count": 71,
   "id": "45656df9",
   "metadata": {},
   "outputs": [
    {
     "data": {
      "text/plain": [
       "array([[0., 0., 0., ..., 0., 0., 0.],\n",
       "       [1., 0., 0., ..., 0., 0., 0.],\n",
       "       [0., 0., 0., ..., 0., 0., 0.],\n",
       "       ...,\n",
       "       [0., 0., 0., ..., 0., 0., 0.],\n",
       "       [0., 0., 0., ..., 0., 0., 0.],\n",
       "       [0., 0., 0., ..., 0., 1., 0.]], dtype=float32)"
      ]
     },
     "execution_count": 71,
     "metadata": {},
     "output_type": "execute_result"
    }
   ],
   "source": [
    "Y_train"
   ]
  },
  {
   "cell_type": "code",
   "execution_count": null,
   "id": "52ac3516",
   "metadata": {},
   "outputs": [],
   "source": []
  }
 ],
 "metadata": {
  "kernelspec": {
   "display_name": "Python 3 (ipykernel)",
   "language": "python",
   "name": "python3"
  },
  "language_info": {
   "codemirror_mode": {
    "name": "ipython",
    "version": 3
   },
   "file_extension": ".py",
   "mimetype": "text/x-python",
   "name": "python",
   "nbconvert_exporter": "python",
   "pygments_lexer": "ipython3",
   "version": "3.10.10"
  }
 },
 "nbformat": 4,
 "nbformat_minor": 5
}
